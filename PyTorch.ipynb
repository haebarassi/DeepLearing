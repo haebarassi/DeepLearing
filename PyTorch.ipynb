{
  "nbformat": 4,
  "nbformat_minor": 0,
  "metadata": {
    "colab": {
      "name": "PyTorch",
      "provenance": [],
      "toc_visible": true,
      "authorship_tag": "ABX9TyN5PIbL9A23wBydAEFnvRTs",
      "include_colab_link": true
    },
    "kernelspec": {
      "name": "python3",
      "display_name": "Python 3"
    },
    "language_info": {
      "name": "python"
    },
    "widgets": {
      "application/vnd.jupyter.widget-state+json": {
        "ae9c9d03385b4daf8cfb9c97e7382707": {
          "model_module": "@jupyter-widgets/controls",
          "model_name": "HBoxModel",
          "model_module_version": "1.5.0",
          "state": {
            "_dom_classes": [],
            "_model_module": "@jupyter-widgets/controls",
            "_model_module_version": "1.5.0",
            "_model_name": "HBoxModel",
            "_view_count": null,
            "_view_module": "@jupyter-widgets/controls",
            "_view_module_version": "1.5.0",
            "_view_name": "HBoxView",
            "box_style": "",
            "children": [
              "IPY_MODEL_59ea526d9dac45229585d02cc570d5ea",
              "IPY_MODEL_815d9e31a5644f46bb1bc2ce69fb096a",
              "IPY_MODEL_ffdf01a387b44a66950e7862990a0dc8"
            ],
            "layout": "IPY_MODEL_73aad284746e42b2bf1d2aa599cfb9d4"
          }
        },
        "59ea526d9dac45229585d02cc570d5ea": {
          "model_module": "@jupyter-widgets/controls",
          "model_name": "HTMLModel",
          "model_module_version": "1.5.0",
          "state": {
            "_dom_classes": [],
            "_model_module": "@jupyter-widgets/controls",
            "_model_module_version": "1.5.0",
            "_model_name": "HTMLModel",
            "_view_count": null,
            "_view_module": "@jupyter-widgets/controls",
            "_view_module_version": "1.5.0",
            "_view_name": "HTMLView",
            "description": "",
            "description_tooltip": null,
            "layout": "IPY_MODEL_bef0889a7bb54233bea1a8fa3da1c238",
            "placeholder": "​",
            "style": "IPY_MODEL_9015f6a8377b4aa293745da8cc697df0",
            "value": ""
          }
        },
        "815d9e31a5644f46bb1bc2ce69fb096a": {
          "model_module": "@jupyter-widgets/controls",
          "model_name": "FloatProgressModel",
          "model_module_version": "1.5.0",
          "state": {
            "_dom_classes": [],
            "_model_module": "@jupyter-widgets/controls",
            "_model_module_version": "1.5.0",
            "_model_name": "FloatProgressModel",
            "_view_count": null,
            "_view_module": "@jupyter-widgets/controls",
            "_view_module_version": "1.5.0",
            "_view_name": "ProgressView",
            "bar_style": "success",
            "description": "",
            "description_tooltip": null,
            "layout": "IPY_MODEL_ec42afd83d9542d0aaa447e73c39732f",
            "max": 26421880,
            "min": 0,
            "orientation": "horizontal",
            "style": "IPY_MODEL_e0862ec70b4a49f881c703adb533435e",
            "value": 26421880
          }
        },
        "ffdf01a387b44a66950e7862990a0dc8": {
          "model_module": "@jupyter-widgets/controls",
          "model_name": "HTMLModel",
          "model_module_version": "1.5.0",
          "state": {
            "_dom_classes": [],
            "_model_module": "@jupyter-widgets/controls",
            "_model_module_version": "1.5.0",
            "_model_name": "HTMLModel",
            "_view_count": null,
            "_view_module": "@jupyter-widgets/controls",
            "_view_module_version": "1.5.0",
            "_view_name": "HTMLView",
            "description": "",
            "description_tooltip": null,
            "layout": "IPY_MODEL_be584bfb5c9d49e2b31f6eebc74d00e1",
            "placeholder": "​",
            "style": "IPY_MODEL_76dadd6ad4b64330bea566a33073ce18",
            "value": " 26422272/? [00:01&lt;00:00, 25662973.74it/s]"
          }
        },
        "73aad284746e42b2bf1d2aa599cfb9d4": {
          "model_module": "@jupyter-widgets/base",
          "model_name": "LayoutModel",
          "model_module_version": "1.2.0",
          "state": {
            "_model_module": "@jupyter-widgets/base",
            "_model_module_version": "1.2.0",
            "_model_name": "LayoutModel",
            "_view_count": null,
            "_view_module": "@jupyter-widgets/base",
            "_view_module_version": "1.2.0",
            "_view_name": "LayoutView",
            "align_content": null,
            "align_items": null,
            "align_self": null,
            "border": null,
            "bottom": null,
            "display": null,
            "flex": null,
            "flex_flow": null,
            "grid_area": null,
            "grid_auto_columns": null,
            "grid_auto_flow": null,
            "grid_auto_rows": null,
            "grid_column": null,
            "grid_gap": null,
            "grid_row": null,
            "grid_template_areas": null,
            "grid_template_columns": null,
            "grid_template_rows": null,
            "height": null,
            "justify_content": null,
            "justify_items": null,
            "left": null,
            "margin": null,
            "max_height": null,
            "max_width": null,
            "min_height": null,
            "min_width": null,
            "object_fit": null,
            "object_position": null,
            "order": null,
            "overflow": null,
            "overflow_x": null,
            "overflow_y": null,
            "padding": null,
            "right": null,
            "top": null,
            "visibility": null,
            "width": null
          }
        },
        "bef0889a7bb54233bea1a8fa3da1c238": {
          "model_module": "@jupyter-widgets/base",
          "model_name": "LayoutModel",
          "model_module_version": "1.2.0",
          "state": {
            "_model_module": "@jupyter-widgets/base",
            "_model_module_version": "1.2.0",
            "_model_name": "LayoutModel",
            "_view_count": null,
            "_view_module": "@jupyter-widgets/base",
            "_view_module_version": "1.2.0",
            "_view_name": "LayoutView",
            "align_content": null,
            "align_items": null,
            "align_self": null,
            "border": null,
            "bottom": null,
            "display": null,
            "flex": null,
            "flex_flow": null,
            "grid_area": null,
            "grid_auto_columns": null,
            "grid_auto_flow": null,
            "grid_auto_rows": null,
            "grid_column": null,
            "grid_gap": null,
            "grid_row": null,
            "grid_template_areas": null,
            "grid_template_columns": null,
            "grid_template_rows": null,
            "height": null,
            "justify_content": null,
            "justify_items": null,
            "left": null,
            "margin": null,
            "max_height": null,
            "max_width": null,
            "min_height": null,
            "min_width": null,
            "object_fit": null,
            "object_position": null,
            "order": null,
            "overflow": null,
            "overflow_x": null,
            "overflow_y": null,
            "padding": null,
            "right": null,
            "top": null,
            "visibility": null,
            "width": null
          }
        },
        "9015f6a8377b4aa293745da8cc697df0": {
          "model_module": "@jupyter-widgets/controls",
          "model_name": "DescriptionStyleModel",
          "model_module_version": "1.5.0",
          "state": {
            "_model_module": "@jupyter-widgets/controls",
            "_model_module_version": "1.5.0",
            "_model_name": "DescriptionStyleModel",
            "_view_count": null,
            "_view_module": "@jupyter-widgets/base",
            "_view_module_version": "1.2.0",
            "_view_name": "StyleView",
            "description_width": ""
          }
        },
        "ec42afd83d9542d0aaa447e73c39732f": {
          "model_module": "@jupyter-widgets/base",
          "model_name": "LayoutModel",
          "model_module_version": "1.2.0",
          "state": {
            "_model_module": "@jupyter-widgets/base",
            "_model_module_version": "1.2.0",
            "_model_name": "LayoutModel",
            "_view_count": null,
            "_view_module": "@jupyter-widgets/base",
            "_view_module_version": "1.2.0",
            "_view_name": "LayoutView",
            "align_content": null,
            "align_items": null,
            "align_self": null,
            "border": null,
            "bottom": null,
            "display": null,
            "flex": null,
            "flex_flow": null,
            "grid_area": null,
            "grid_auto_columns": null,
            "grid_auto_flow": null,
            "grid_auto_rows": null,
            "grid_column": null,
            "grid_gap": null,
            "grid_row": null,
            "grid_template_areas": null,
            "grid_template_columns": null,
            "grid_template_rows": null,
            "height": null,
            "justify_content": null,
            "justify_items": null,
            "left": null,
            "margin": null,
            "max_height": null,
            "max_width": null,
            "min_height": null,
            "min_width": null,
            "object_fit": null,
            "object_position": null,
            "order": null,
            "overflow": null,
            "overflow_x": null,
            "overflow_y": null,
            "padding": null,
            "right": null,
            "top": null,
            "visibility": null,
            "width": null
          }
        },
        "e0862ec70b4a49f881c703adb533435e": {
          "model_module": "@jupyter-widgets/controls",
          "model_name": "ProgressStyleModel",
          "model_module_version": "1.5.0",
          "state": {
            "_model_module": "@jupyter-widgets/controls",
            "_model_module_version": "1.5.0",
            "_model_name": "ProgressStyleModel",
            "_view_count": null,
            "_view_module": "@jupyter-widgets/base",
            "_view_module_version": "1.2.0",
            "_view_name": "StyleView",
            "bar_color": null,
            "description_width": ""
          }
        },
        "be584bfb5c9d49e2b31f6eebc74d00e1": {
          "model_module": "@jupyter-widgets/base",
          "model_name": "LayoutModel",
          "model_module_version": "1.2.0",
          "state": {
            "_model_module": "@jupyter-widgets/base",
            "_model_module_version": "1.2.0",
            "_model_name": "LayoutModel",
            "_view_count": null,
            "_view_module": "@jupyter-widgets/base",
            "_view_module_version": "1.2.0",
            "_view_name": "LayoutView",
            "align_content": null,
            "align_items": null,
            "align_self": null,
            "border": null,
            "bottom": null,
            "display": null,
            "flex": null,
            "flex_flow": null,
            "grid_area": null,
            "grid_auto_columns": null,
            "grid_auto_flow": null,
            "grid_auto_rows": null,
            "grid_column": null,
            "grid_gap": null,
            "grid_row": null,
            "grid_template_areas": null,
            "grid_template_columns": null,
            "grid_template_rows": null,
            "height": null,
            "justify_content": null,
            "justify_items": null,
            "left": null,
            "margin": null,
            "max_height": null,
            "max_width": null,
            "min_height": null,
            "min_width": null,
            "object_fit": null,
            "object_position": null,
            "order": null,
            "overflow": null,
            "overflow_x": null,
            "overflow_y": null,
            "padding": null,
            "right": null,
            "top": null,
            "visibility": null,
            "width": null
          }
        },
        "76dadd6ad4b64330bea566a33073ce18": {
          "model_module": "@jupyter-widgets/controls",
          "model_name": "DescriptionStyleModel",
          "model_module_version": "1.5.0",
          "state": {
            "_model_module": "@jupyter-widgets/controls",
            "_model_module_version": "1.5.0",
            "_model_name": "DescriptionStyleModel",
            "_view_count": null,
            "_view_module": "@jupyter-widgets/base",
            "_view_module_version": "1.2.0",
            "_view_name": "StyleView",
            "description_width": ""
          }
        },
        "81c51fb00a544f3087a1cfce6cd161ab": {
          "model_module": "@jupyter-widgets/controls",
          "model_name": "HBoxModel",
          "model_module_version": "1.5.0",
          "state": {
            "_dom_classes": [],
            "_model_module": "@jupyter-widgets/controls",
            "_model_module_version": "1.5.0",
            "_model_name": "HBoxModel",
            "_view_count": null,
            "_view_module": "@jupyter-widgets/controls",
            "_view_module_version": "1.5.0",
            "_view_name": "HBoxView",
            "box_style": "",
            "children": [
              "IPY_MODEL_5f046c1622de490db88df25c1628fcf5",
              "IPY_MODEL_9d7a2c8aa9e445c7892ed64e029ea30d",
              "IPY_MODEL_fe57e96183994a1eb007f5798d3bb296"
            ],
            "layout": "IPY_MODEL_c07102b71eb041c0a5e7585096ba68fe"
          }
        },
        "5f046c1622de490db88df25c1628fcf5": {
          "model_module": "@jupyter-widgets/controls",
          "model_name": "HTMLModel",
          "model_module_version": "1.5.0",
          "state": {
            "_dom_classes": [],
            "_model_module": "@jupyter-widgets/controls",
            "_model_module_version": "1.5.0",
            "_model_name": "HTMLModel",
            "_view_count": null,
            "_view_module": "@jupyter-widgets/controls",
            "_view_module_version": "1.5.0",
            "_view_name": "HTMLView",
            "description": "",
            "description_tooltip": null,
            "layout": "IPY_MODEL_44db9adb83d84b8b9ef1cfc1f4bbc0f1",
            "placeholder": "​",
            "style": "IPY_MODEL_d62596f3dc854749aef6f2da5a8cae14",
            "value": ""
          }
        },
        "9d7a2c8aa9e445c7892ed64e029ea30d": {
          "model_module": "@jupyter-widgets/controls",
          "model_name": "FloatProgressModel",
          "model_module_version": "1.5.0",
          "state": {
            "_dom_classes": [],
            "_model_module": "@jupyter-widgets/controls",
            "_model_module_version": "1.5.0",
            "_model_name": "FloatProgressModel",
            "_view_count": null,
            "_view_module": "@jupyter-widgets/controls",
            "_view_module_version": "1.5.0",
            "_view_name": "ProgressView",
            "bar_style": "success",
            "description": "",
            "description_tooltip": null,
            "layout": "IPY_MODEL_2b0deda6f27240109f984b20b77815df",
            "max": 29515,
            "min": 0,
            "orientation": "horizontal",
            "style": "IPY_MODEL_966b519b328f460b9173d663dde40c3a",
            "value": 29515
          }
        },
        "fe57e96183994a1eb007f5798d3bb296": {
          "model_module": "@jupyter-widgets/controls",
          "model_name": "HTMLModel",
          "model_module_version": "1.5.0",
          "state": {
            "_dom_classes": [],
            "_model_module": "@jupyter-widgets/controls",
            "_model_module_version": "1.5.0",
            "_model_name": "HTMLModel",
            "_view_count": null,
            "_view_module": "@jupyter-widgets/controls",
            "_view_module_version": "1.5.0",
            "_view_name": "HTMLView",
            "description": "",
            "description_tooltip": null,
            "layout": "IPY_MODEL_5e917c73aa294979aa1bc3bbc6d1b420",
            "placeholder": "​",
            "style": "IPY_MODEL_e2d0b218674440cbb9e4fa07daa81546",
            "value": " 29696/? [00:00&lt;00:00, 169615.64it/s]"
          }
        },
        "c07102b71eb041c0a5e7585096ba68fe": {
          "model_module": "@jupyter-widgets/base",
          "model_name": "LayoutModel",
          "model_module_version": "1.2.0",
          "state": {
            "_model_module": "@jupyter-widgets/base",
            "_model_module_version": "1.2.0",
            "_model_name": "LayoutModel",
            "_view_count": null,
            "_view_module": "@jupyter-widgets/base",
            "_view_module_version": "1.2.0",
            "_view_name": "LayoutView",
            "align_content": null,
            "align_items": null,
            "align_self": null,
            "border": null,
            "bottom": null,
            "display": null,
            "flex": null,
            "flex_flow": null,
            "grid_area": null,
            "grid_auto_columns": null,
            "grid_auto_flow": null,
            "grid_auto_rows": null,
            "grid_column": null,
            "grid_gap": null,
            "grid_row": null,
            "grid_template_areas": null,
            "grid_template_columns": null,
            "grid_template_rows": null,
            "height": null,
            "justify_content": null,
            "justify_items": null,
            "left": null,
            "margin": null,
            "max_height": null,
            "max_width": null,
            "min_height": null,
            "min_width": null,
            "object_fit": null,
            "object_position": null,
            "order": null,
            "overflow": null,
            "overflow_x": null,
            "overflow_y": null,
            "padding": null,
            "right": null,
            "top": null,
            "visibility": null,
            "width": null
          }
        },
        "44db9adb83d84b8b9ef1cfc1f4bbc0f1": {
          "model_module": "@jupyter-widgets/base",
          "model_name": "LayoutModel",
          "model_module_version": "1.2.0",
          "state": {
            "_model_module": "@jupyter-widgets/base",
            "_model_module_version": "1.2.0",
            "_model_name": "LayoutModel",
            "_view_count": null,
            "_view_module": "@jupyter-widgets/base",
            "_view_module_version": "1.2.0",
            "_view_name": "LayoutView",
            "align_content": null,
            "align_items": null,
            "align_self": null,
            "border": null,
            "bottom": null,
            "display": null,
            "flex": null,
            "flex_flow": null,
            "grid_area": null,
            "grid_auto_columns": null,
            "grid_auto_flow": null,
            "grid_auto_rows": null,
            "grid_column": null,
            "grid_gap": null,
            "grid_row": null,
            "grid_template_areas": null,
            "grid_template_columns": null,
            "grid_template_rows": null,
            "height": null,
            "justify_content": null,
            "justify_items": null,
            "left": null,
            "margin": null,
            "max_height": null,
            "max_width": null,
            "min_height": null,
            "min_width": null,
            "object_fit": null,
            "object_position": null,
            "order": null,
            "overflow": null,
            "overflow_x": null,
            "overflow_y": null,
            "padding": null,
            "right": null,
            "top": null,
            "visibility": null,
            "width": null
          }
        },
        "d62596f3dc854749aef6f2da5a8cae14": {
          "model_module": "@jupyter-widgets/controls",
          "model_name": "DescriptionStyleModel",
          "model_module_version": "1.5.0",
          "state": {
            "_model_module": "@jupyter-widgets/controls",
            "_model_module_version": "1.5.0",
            "_model_name": "DescriptionStyleModel",
            "_view_count": null,
            "_view_module": "@jupyter-widgets/base",
            "_view_module_version": "1.2.0",
            "_view_name": "StyleView",
            "description_width": ""
          }
        },
        "2b0deda6f27240109f984b20b77815df": {
          "model_module": "@jupyter-widgets/base",
          "model_name": "LayoutModel",
          "model_module_version": "1.2.0",
          "state": {
            "_model_module": "@jupyter-widgets/base",
            "_model_module_version": "1.2.0",
            "_model_name": "LayoutModel",
            "_view_count": null,
            "_view_module": "@jupyter-widgets/base",
            "_view_module_version": "1.2.0",
            "_view_name": "LayoutView",
            "align_content": null,
            "align_items": null,
            "align_self": null,
            "border": null,
            "bottom": null,
            "display": null,
            "flex": null,
            "flex_flow": null,
            "grid_area": null,
            "grid_auto_columns": null,
            "grid_auto_flow": null,
            "grid_auto_rows": null,
            "grid_column": null,
            "grid_gap": null,
            "grid_row": null,
            "grid_template_areas": null,
            "grid_template_columns": null,
            "grid_template_rows": null,
            "height": null,
            "justify_content": null,
            "justify_items": null,
            "left": null,
            "margin": null,
            "max_height": null,
            "max_width": null,
            "min_height": null,
            "min_width": null,
            "object_fit": null,
            "object_position": null,
            "order": null,
            "overflow": null,
            "overflow_x": null,
            "overflow_y": null,
            "padding": null,
            "right": null,
            "top": null,
            "visibility": null,
            "width": null
          }
        },
        "966b519b328f460b9173d663dde40c3a": {
          "model_module": "@jupyter-widgets/controls",
          "model_name": "ProgressStyleModel",
          "model_module_version": "1.5.0",
          "state": {
            "_model_module": "@jupyter-widgets/controls",
            "_model_module_version": "1.5.0",
            "_model_name": "ProgressStyleModel",
            "_view_count": null,
            "_view_module": "@jupyter-widgets/base",
            "_view_module_version": "1.2.0",
            "_view_name": "StyleView",
            "bar_color": null,
            "description_width": ""
          }
        },
        "5e917c73aa294979aa1bc3bbc6d1b420": {
          "model_module": "@jupyter-widgets/base",
          "model_name": "LayoutModel",
          "model_module_version": "1.2.0",
          "state": {
            "_model_module": "@jupyter-widgets/base",
            "_model_module_version": "1.2.0",
            "_model_name": "LayoutModel",
            "_view_count": null,
            "_view_module": "@jupyter-widgets/base",
            "_view_module_version": "1.2.0",
            "_view_name": "LayoutView",
            "align_content": null,
            "align_items": null,
            "align_self": null,
            "border": null,
            "bottom": null,
            "display": null,
            "flex": null,
            "flex_flow": null,
            "grid_area": null,
            "grid_auto_columns": null,
            "grid_auto_flow": null,
            "grid_auto_rows": null,
            "grid_column": null,
            "grid_gap": null,
            "grid_row": null,
            "grid_template_areas": null,
            "grid_template_columns": null,
            "grid_template_rows": null,
            "height": null,
            "justify_content": null,
            "justify_items": null,
            "left": null,
            "margin": null,
            "max_height": null,
            "max_width": null,
            "min_height": null,
            "min_width": null,
            "object_fit": null,
            "object_position": null,
            "order": null,
            "overflow": null,
            "overflow_x": null,
            "overflow_y": null,
            "padding": null,
            "right": null,
            "top": null,
            "visibility": null,
            "width": null
          }
        },
        "e2d0b218674440cbb9e4fa07daa81546": {
          "model_module": "@jupyter-widgets/controls",
          "model_name": "DescriptionStyleModel",
          "model_module_version": "1.5.0",
          "state": {
            "_model_module": "@jupyter-widgets/controls",
            "_model_module_version": "1.5.0",
            "_model_name": "DescriptionStyleModel",
            "_view_count": null,
            "_view_module": "@jupyter-widgets/base",
            "_view_module_version": "1.2.0",
            "_view_name": "StyleView",
            "description_width": ""
          }
        },
        "4739865ac9f445db9fd0a3b49faa19bd": {
          "model_module": "@jupyter-widgets/controls",
          "model_name": "HBoxModel",
          "model_module_version": "1.5.0",
          "state": {
            "_dom_classes": [],
            "_model_module": "@jupyter-widgets/controls",
            "_model_module_version": "1.5.0",
            "_model_name": "HBoxModel",
            "_view_count": null,
            "_view_module": "@jupyter-widgets/controls",
            "_view_module_version": "1.5.0",
            "_view_name": "HBoxView",
            "box_style": "",
            "children": [
              "IPY_MODEL_3c9a7e5c6b3e4afcbb2935807aaa9be9",
              "IPY_MODEL_61613f6d74984888969a8fffbebb4b0e",
              "IPY_MODEL_fb632d3afd0d4ecead3f2355322a756f"
            ],
            "layout": "IPY_MODEL_52c79a306f554364b58c8fe5bf383a18"
          }
        },
        "3c9a7e5c6b3e4afcbb2935807aaa9be9": {
          "model_module": "@jupyter-widgets/controls",
          "model_name": "HTMLModel",
          "model_module_version": "1.5.0",
          "state": {
            "_dom_classes": [],
            "_model_module": "@jupyter-widgets/controls",
            "_model_module_version": "1.5.0",
            "_model_name": "HTMLModel",
            "_view_count": null,
            "_view_module": "@jupyter-widgets/controls",
            "_view_module_version": "1.5.0",
            "_view_name": "HTMLView",
            "description": "",
            "description_tooltip": null,
            "layout": "IPY_MODEL_cab028089a8b4f58b0fa5d4cff73b99d",
            "placeholder": "​",
            "style": "IPY_MODEL_ff20e6ca32cd4140aaba9d728e31be21",
            "value": ""
          }
        },
        "61613f6d74984888969a8fffbebb4b0e": {
          "model_module": "@jupyter-widgets/controls",
          "model_name": "FloatProgressModel",
          "model_module_version": "1.5.0",
          "state": {
            "_dom_classes": [],
            "_model_module": "@jupyter-widgets/controls",
            "_model_module_version": "1.5.0",
            "_model_name": "FloatProgressModel",
            "_view_count": null,
            "_view_module": "@jupyter-widgets/controls",
            "_view_module_version": "1.5.0",
            "_view_name": "ProgressView",
            "bar_style": "success",
            "description": "",
            "description_tooltip": null,
            "layout": "IPY_MODEL_66da69eebace4e3b892409d072a264d5",
            "max": 4422102,
            "min": 0,
            "orientation": "horizontal",
            "style": "IPY_MODEL_69dd3478f4444598a5bdfb0d33df6485",
            "value": 4422102
          }
        },
        "fb632d3afd0d4ecead3f2355322a756f": {
          "model_module": "@jupyter-widgets/controls",
          "model_name": "HTMLModel",
          "model_module_version": "1.5.0",
          "state": {
            "_dom_classes": [],
            "_model_module": "@jupyter-widgets/controls",
            "_model_module_version": "1.5.0",
            "_model_name": "HTMLModel",
            "_view_count": null,
            "_view_module": "@jupyter-widgets/controls",
            "_view_module_version": "1.5.0",
            "_view_name": "HTMLView",
            "description": "",
            "description_tooltip": null,
            "layout": "IPY_MODEL_3f23953a3e954eda9137c2dbc78d51f1",
            "placeholder": "​",
            "style": "IPY_MODEL_eccb9c3326c1414aa795e8ab0e1e288e",
            "value": " 4422656/? [00:00&lt;00:00, 10377893.92it/s]"
          }
        },
        "52c79a306f554364b58c8fe5bf383a18": {
          "model_module": "@jupyter-widgets/base",
          "model_name": "LayoutModel",
          "model_module_version": "1.2.0",
          "state": {
            "_model_module": "@jupyter-widgets/base",
            "_model_module_version": "1.2.0",
            "_model_name": "LayoutModel",
            "_view_count": null,
            "_view_module": "@jupyter-widgets/base",
            "_view_module_version": "1.2.0",
            "_view_name": "LayoutView",
            "align_content": null,
            "align_items": null,
            "align_self": null,
            "border": null,
            "bottom": null,
            "display": null,
            "flex": null,
            "flex_flow": null,
            "grid_area": null,
            "grid_auto_columns": null,
            "grid_auto_flow": null,
            "grid_auto_rows": null,
            "grid_column": null,
            "grid_gap": null,
            "grid_row": null,
            "grid_template_areas": null,
            "grid_template_columns": null,
            "grid_template_rows": null,
            "height": null,
            "justify_content": null,
            "justify_items": null,
            "left": null,
            "margin": null,
            "max_height": null,
            "max_width": null,
            "min_height": null,
            "min_width": null,
            "object_fit": null,
            "object_position": null,
            "order": null,
            "overflow": null,
            "overflow_x": null,
            "overflow_y": null,
            "padding": null,
            "right": null,
            "top": null,
            "visibility": null,
            "width": null
          }
        },
        "cab028089a8b4f58b0fa5d4cff73b99d": {
          "model_module": "@jupyter-widgets/base",
          "model_name": "LayoutModel",
          "model_module_version": "1.2.0",
          "state": {
            "_model_module": "@jupyter-widgets/base",
            "_model_module_version": "1.2.0",
            "_model_name": "LayoutModel",
            "_view_count": null,
            "_view_module": "@jupyter-widgets/base",
            "_view_module_version": "1.2.0",
            "_view_name": "LayoutView",
            "align_content": null,
            "align_items": null,
            "align_self": null,
            "border": null,
            "bottom": null,
            "display": null,
            "flex": null,
            "flex_flow": null,
            "grid_area": null,
            "grid_auto_columns": null,
            "grid_auto_flow": null,
            "grid_auto_rows": null,
            "grid_column": null,
            "grid_gap": null,
            "grid_row": null,
            "grid_template_areas": null,
            "grid_template_columns": null,
            "grid_template_rows": null,
            "height": null,
            "justify_content": null,
            "justify_items": null,
            "left": null,
            "margin": null,
            "max_height": null,
            "max_width": null,
            "min_height": null,
            "min_width": null,
            "object_fit": null,
            "object_position": null,
            "order": null,
            "overflow": null,
            "overflow_x": null,
            "overflow_y": null,
            "padding": null,
            "right": null,
            "top": null,
            "visibility": null,
            "width": null
          }
        },
        "ff20e6ca32cd4140aaba9d728e31be21": {
          "model_module": "@jupyter-widgets/controls",
          "model_name": "DescriptionStyleModel",
          "model_module_version": "1.5.0",
          "state": {
            "_model_module": "@jupyter-widgets/controls",
            "_model_module_version": "1.5.0",
            "_model_name": "DescriptionStyleModel",
            "_view_count": null,
            "_view_module": "@jupyter-widgets/base",
            "_view_module_version": "1.2.0",
            "_view_name": "StyleView",
            "description_width": ""
          }
        },
        "66da69eebace4e3b892409d072a264d5": {
          "model_module": "@jupyter-widgets/base",
          "model_name": "LayoutModel",
          "model_module_version": "1.2.0",
          "state": {
            "_model_module": "@jupyter-widgets/base",
            "_model_module_version": "1.2.0",
            "_model_name": "LayoutModel",
            "_view_count": null,
            "_view_module": "@jupyter-widgets/base",
            "_view_module_version": "1.2.0",
            "_view_name": "LayoutView",
            "align_content": null,
            "align_items": null,
            "align_self": null,
            "border": null,
            "bottom": null,
            "display": null,
            "flex": null,
            "flex_flow": null,
            "grid_area": null,
            "grid_auto_columns": null,
            "grid_auto_flow": null,
            "grid_auto_rows": null,
            "grid_column": null,
            "grid_gap": null,
            "grid_row": null,
            "grid_template_areas": null,
            "grid_template_columns": null,
            "grid_template_rows": null,
            "height": null,
            "justify_content": null,
            "justify_items": null,
            "left": null,
            "margin": null,
            "max_height": null,
            "max_width": null,
            "min_height": null,
            "min_width": null,
            "object_fit": null,
            "object_position": null,
            "order": null,
            "overflow": null,
            "overflow_x": null,
            "overflow_y": null,
            "padding": null,
            "right": null,
            "top": null,
            "visibility": null,
            "width": null
          }
        },
        "69dd3478f4444598a5bdfb0d33df6485": {
          "model_module": "@jupyter-widgets/controls",
          "model_name": "ProgressStyleModel",
          "model_module_version": "1.5.0",
          "state": {
            "_model_module": "@jupyter-widgets/controls",
            "_model_module_version": "1.5.0",
            "_model_name": "ProgressStyleModel",
            "_view_count": null,
            "_view_module": "@jupyter-widgets/base",
            "_view_module_version": "1.2.0",
            "_view_name": "StyleView",
            "bar_color": null,
            "description_width": ""
          }
        },
        "3f23953a3e954eda9137c2dbc78d51f1": {
          "model_module": "@jupyter-widgets/base",
          "model_name": "LayoutModel",
          "model_module_version": "1.2.0",
          "state": {
            "_model_module": "@jupyter-widgets/base",
            "_model_module_version": "1.2.0",
            "_model_name": "LayoutModel",
            "_view_count": null,
            "_view_module": "@jupyter-widgets/base",
            "_view_module_version": "1.2.0",
            "_view_name": "LayoutView",
            "align_content": null,
            "align_items": null,
            "align_self": null,
            "border": null,
            "bottom": null,
            "display": null,
            "flex": null,
            "flex_flow": null,
            "grid_area": null,
            "grid_auto_columns": null,
            "grid_auto_flow": null,
            "grid_auto_rows": null,
            "grid_column": null,
            "grid_gap": null,
            "grid_row": null,
            "grid_template_areas": null,
            "grid_template_columns": null,
            "grid_template_rows": null,
            "height": null,
            "justify_content": null,
            "justify_items": null,
            "left": null,
            "margin": null,
            "max_height": null,
            "max_width": null,
            "min_height": null,
            "min_width": null,
            "object_fit": null,
            "object_position": null,
            "order": null,
            "overflow": null,
            "overflow_x": null,
            "overflow_y": null,
            "padding": null,
            "right": null,
            "top": null,
            "visibility": null,
            "width": null
          }
        },
        "eccb9c3326c1414aa795e8ab0e1e288e": {
          "model_module": "@jupyter-widgets/controls",
          "model_name": "DescriptionStyleModel",
          "model_module_version": "1.5.0",
          "state": {
            "_model_module": "@jupyter-widgets/controls",
            "_model_module_version": "1.5.0",
            "_model_name": "DescriptionStyleModel",
            "_view_count": null,
            "_view_module": "@jupyter-widgets/base",
            "_view_module_version": "1.2.0",
            "_view_name": "StyleView",
            "description_width": ""
          }
        },
        "a86ffc56b2424a7191a10112c0446727": {
          "model_module": "@jupyter-widgets/controls",
          "model_name": "HBoxModel",
          "model_module_version": "1.5.0",
          "state": {
            "_dom_classes": [],
            "_model_module": "@jupyter-widgets/controls",
            "_model_module_version": "1.5.0",
            "_model_name": "HBoxModel",
            "_view_count": null,
            "_view_module": "@jupyter-widgets/controls",
            "_view_module_version": "1.5.0",
            "_view_name": "HBoxView",
            "box_style": "",
            "children": [
              "IPY_MODEL_7d2731f93a40449083291417447f4314",
              "IPY_MODEL_4a5d705155a34a8ea4211433dbb1e65b",
              "IPY_MODEL_2252c51aede04a88bb635eb5594a36b9"
            ],
            "layout": "IPY_MODEL_2cee2304797a440c96acc46f2a4dc946"
          }
        },
        "7d2731f93a40449083291417447f4314": {
          "model_module": "@jupyter-widgets/controls",
          "model_name": "HTMLModel",
          "model_module_version": "1.5.0",
          "state": {
            "_dom_classes": [],
            "_model_module": "@jupyter-widgets/controls",
            "_model_module_version": "1.5.0",
            "_model_name": "HTMLModel",
            "_view_count": null,
            "_view_module": "@jupyter-widgets/controls",
            "_view_module_version": "1.5.0",
            "_view_name": "HTMLView",
            "description": "",
            "description_tooltip": null,
            "layout": "IPY_MODEL_3bbbd91aea524dcd880501f2228ed525",
            "placeholder": "​",
            "style": "IPY_MODEL_ca8099693643426181362f8faf6ee903",
            "value": ""
          }
        },
        "4a5d705155a34a8ea4211433dbb1e65b": {
          "model_module": "@jupyter-widgets/controls",
          "model_name": "FloatProgressModel",
          "model_module_version": "1.5.0",
          "state": {
            "_dom_classes": [],
            "_model_module": "@jupyter-widgets/controls",
            "_model_module_version": "1.5.0",
            "_model_name": "FloatProgressModel",
            "_view_count": null,
            "_view_module": "@jupyter-widgets/controls",
            "_view_module_version": "1.5.0",
            "_view_name": "ProgressView",
            "bar_style": "success",
            "description": "",
            "description_tooltip": null,
            "layout": "IPY_MODEL_dda98c30459a4106ad38f148a06d6809",
            "max": 5148,
            "min": 0,
            "orientation": "horizontal",
            "style": "IPY_MODEL_0adea5d9bb974c299814ed501799f802",
            "value": 5148
          }
        },
        "2252c51aede04a88bb635eb5594a36b9": {
          "model_module": "@jupyter-widgets/controls",
          "model_name": "HTMLModel",
          "model_module_version": "1.5.0",
          "state": {
            "_dom_classes": [],
            "_model_module": "@jupyter-widgets/controls",
            "_model_module_version": "1.5.0",
            "_model_name": "HTMLModel",
            "_view_count": null,
            "_view_module": "@jupyter-widgets/controls",
            "_view_module_version": "1.5.0",
            "_view_name": "HTMLView",
            "description": "",
            "description_tooltip": null,
            "layout": "IPY_MODEL_718af5785caf405f934d5531f1e84c6a",
            "placeholder": "​",
            "style": "IPY_MODEL_f1ab194f1b3b468cb41542144eb92e0a",
            "value": " 6144/? [00:00&lt;00:00, 150445.47it/s]"
          }
        },
        "2cee2304797a440c96acc46f2a4dc946": {
          "model_module": "@jupyter-widgets/base",
          "model_name": "LayoutModel",
          "model_module_version": "1.2.0",
          "state": {
            "_model_module": "@jupyter-widgets/base",
            "_model_module_version": "1.2.0",
            "_model_name": "LayoutModel",
            "_view_count": null,
            "_view_module": "@jupyter-widgets/base",
            "_view_module_version": "1.2.0",
            "_view_name": "LayoutView",
            "align_content": null,
            "align_items": null,
            "align_self": null,
            "border": null,
            "bottom": null,
            "display": null,
            "flex": null,
            "flex_flow": null,
            "grid_area": null,
            "grid_auto_columns": null,
            "grid_auto_flow": null,
            "grid_auto_rows": null,
            "grid_column": null,
            "grid_gap": null,
            "grid_row": null,
            "grid_template_areas": null,
            "grid_template_columns": null,
            "grid_template_rows": null,
            "height": null,
            "justify_content": null,
            "justify_items": null,
            "left": null,
            "margin": null,
            "max_height": null,
            "max_width": null,
            "min_height": null,
            "min_width": null,
            "object_fit": null,
            "object_position": null,
            "order": null,
            "overflow": null,
            "overflow_x": null,
            "overflow_y": null,
            "padding": null,
            "right": null,
            "top": null,
            "visibility": null,
            "width": null
          }
        },
        "3bbbd91aea524dcd880501f2228ed525": {
          "model_module": "@jupyter-widgets/base",
          "model_name": "LayoutModel",
          "model_module_version": "1.2.0",
          "state": {
            "_model_module": "@jupyter-widgets/base",
            "_model_module_version": "1.2.0",
            "_model_name": "LayoutModel",
            "_view_count": null,
            "_view_module": "@jupyter-widgets/base",
            "_view_module_version": "1.2.0",
            "_view_name": "LayoutView",
            "align_content": null,
            "align_items": null,
            "align_self": null,
            "border": null,
            "bottom": null,
            "display": null,
            "flex": null,
            "flex_flow": null,
            "grid_area": null,
            "grid_auto_columns": null,
            "grid_auto_flow": null,
            "grid_auto_rows": null,
            "grid_column": null,
            "grid_gap": null,
            "grid_row": null,
            "grid_template_areas": null,
            "grid_template_columns": null,
            "grid_template_rows": null,
            "height": null,
            "justify_content": null,
            "justify_items": null,
            "left": null,
            "margin": null,
            "max_height": null,
            "max_width": null,
            "min_height": null,
            "min_width": null,
            "object_fit": null,
            "object_position": null,
            "order": null,
            "overflow": null,
            "overflow_x": null,
            "overflow_y": null,
            "padding": null,
            "right": null,
            "top": null,
            "visibility": null,
            "width": null
          }
        },
        "ca8099693643426181362f8faf6ee903": {
          "model_module": "@jupyter-widgets/controls",
          "model_name": "DescriptionStyleModel",
          "model_module_version": "1.5.0",
          "state": {
            "_model_module": "@jupyter-widgets/controls",
            "_model_module_version": "1.5.0",
            "_model_name": "DescriptionStyleModel",
            "_view_count": null,
            "_view_module": "@jupyter-widgets/base",
            "_view_module_version": "1.2.0",
            "_view_name": "StyleView",
            "description_width": ""
          }
        },
        "dda98c30459a4106ad38f148a06d6809": {
          "model_module": "@jupyter-widgets/base",
          "model_name": "LayoutModel",
          "model_module_version": "1.2.0",
          "state": {
            "_model_module": "@jupyter-widgets/base",
            "_model_module_version": "1.2.0",
            "_model_name": "LayoutModel",
            "_view_count": null,
            "_view_module": "@jupyter-widgets/base",
            "_view_module_version": "1.2.0",
            "_view_name": "LayoutView",
            "align_content": null,
            "align_items": null,
            "align_self": null,
            "border": null,
            "bottom": null,
            "display": null,
            "flex": null,
            "flex_flow": null,
            "grid_area": null,
            "grid_auto_columns": null,
            "grid_auto_flow": null,
            "grid_auto_rows": null,
            "grid_column": null,
            "grid_gap": null,
            "grid_row": null,
            "grid_template_areas": null,
            "grid_template_columns": null,
            "grid_template_rows": null,
            "height": null,
            "justify_content": null,
            "justify_items": null,
            "left": null,
            "margin": null,
            "max_height": null,
            "max_width": null,
            "min_height": null,
            "min_width": null,
            "object_fit": null,
            "object_position": null,
            "order": null,
            "overflow": null,
            "overflow_x": null,
            "overflow_y": null,
            "padding": null,
            "right": null,
            "top": null,
            "visibility": null,
            "width": null
          }
        },
        "0adea5d9bb974c299814ed501799f802": {
          "model_module": "@jupyter-widgets/controls",
          "model_name": "ProgressStyleModel",
          "model_module_version": "1.5.0",
          "state": {
            "_model_module": "@jupyter-widgets/controls",
            "_model_module_version": "1.5.0",
            "_model_name": "ProgressStyleModel",
            "_view_count": null,
            "_view_module": "@jupyter-widgets/base",
            "_view_module_version": "1.2.0",
            "_view_name": "StyleView",
            "bar_color": null,
            "description_width": ""
          }
        },
        "718af5785caf405f934d5531f1e84c6a": {
          "model_module": "@jupyter-widgets/base",
          "model_name": "LayoutModel",
          "model_module_version": "1.2.0",
          "state": {
            "_model_module": "@jupyter-widgets/base",
            "_model_module_version": "1.2.0",
            "_model_name": "LayoutModel",
            "_view_count": null,
            "_view_module": "@jupyter-widgets/base",
            "_view_module_version": "1.2.0",
            "_view_name": "LayoutView",
            "align_content": null,
            "align_items": null,
            "align_self": null,
            "border": null,
            "bottom": null,
            "display": null,
            "flex": null,
            "flex_flow": null,
            "grid_area": null,
            "grid_auto_columns": null,
            "grid_auto_flow": null,
            "grid_auto_rows": null,
            "grid_column": null,
            "grid_gap": null,
            "grid_row": null,
            "grid_template_areas": null,
            "grid_template_columns": null,
            "grid_template_rows": null,
            "height": null,
            "justify_content": null,
            "justify_items": null,
            "left": null,
            "margin": null,
            "max_height": null,
            "max_width": null,
            "min_height": null,
            "min_width": null,
            "object_fit": null,
            "object_position": null,
            "order": null,
            "overflow": null,
            "overflow_x": null,
            "overflow_y": null,
            "padding": null,
            "right": null,
            "top": null,
            "visibility": null,
            "width": null
          }
        },
        "f1ab194f1b3b468cb41542144eb92e0a": {
          "model_module": "@jupyter-widgets/controls",
          "model_name": "DescriptionStyleModel",
          "model_module_version": "1.5.0",
          "state": {
            "_model_module": "@jupyter-widgets/controls",
            "_model_module_version": "1.5.0",
            "_model_name": "DescriptionStyleModel",
            "_view_count": null,
            "_view_module": "@jupyter-widgets/base",
            "_view_module_version": "1.2.0",
            "_view_name": "StyleView",
            "description_width": ""
          }
        }
      }
    }
  },
  "cells": [
    {
      "cell_type": "markdown",
      "metadata": {
        "id": "view-in-github",
        "colab_type": "text"
      },
      "source": [
        "<a href=\"https://colab.research.google.com/github/haebarassi/DeepLearing/blob/main/PyTorch.ipynb\" target=\"_parent\"><img src=\"https://colab.research.google.com/assets/colab-badge.svg\" alt=\"Open In Colab\"/></a>"
      ]
    },
    {
      "cell_type": "markdown",
      "source": [
        "# 1. ABOUT TENSOR"
      ],
      "metadata": {
        "id": "2MQo1KphrfC9"
      }
    },
    {
      "cell_type": "markdown",
      "source": [
        "- PyTorch에서는 텐서를 사용하여 모델의 input, output, 모델의 매개변수들을 encode(부호화)한다.\n",
        "- tensor는 numpy의 ndarray와 유사하다.\n",
        "- tensor는 자동 미분(automatic differentiation)에 최적화되어있다."
      ],
      "metadata": {
        "id": "clNeY5i9rlGT"
      }
    },
    {
      "cell_type": "code",
      "source": [
        "import torch\n",
        "import numpy as np"
      ],
      "metadata": {
        "id": "8O0kFa86sGwv"
      },
      "execution_count": 106,
      "outputs": []
    },
    {
      "cell_type": "markdown",
      "source": [
        "## tensor 초기화 하기"
      ],
      "metadata": {
        "id": "D0gWvQGusN4w"
      }
    },
    {
      "cell_type": "markdown",
      "source": [
        "### 1. 데이터로부터 directly 직접 생성하기"
      ],
      "metadata": {
        "id": "dfcQHPUOsQOl"
      }
    },
    {
      "cell_type": "markdown",
      "source": [
        "- 데이터의 data type은 자동으로 유추함"
      ],
      "metadata": {
        "id": "d_kKY0CrshAl"
      }
    },
    {
      "cell_type": "code",
      "source": [
        "data = [[1,2],[3,4]]\n",
        "x_data = torch.tensor(data)"
      ],
      "metadata": {
        "id": "_m3VOoFhsIzP"
      },
      "execution_count": 107,
      "outputs": []
    },
    {
      "cell_type": "code",
      "source": [
        "x_data"
      ],
      "metadata": {
        "colab": {
          "base_uri": "https://localhost:8080/"
        },
        "id": "U_H1xXJ7sbKu",
        "outputId": "1d94157f-6f6b-4dff-b1ee-f1ffcc149cb3"
      },
      "execution_count": 108,
      "outputs": [
        {
          "output_type": "execute_result",
          "data": {
            "text/plain": [
              "tensor([[1, 2],\n",
              "        [3, 4]])"
            ]
          },
          "metadata": {},
          "execution_count": 108
        }
      ]
    },
    {
      "cell_type": "markdown",
      "source": [
        "### 2. numpy 배열로부터 생성하기"
      ],
      "metadata": {
        "id": "tNw1rqZtskVQ"
      }
    },
    {
      "cell_type": "code",
      "source": [
        "np_array = np.array(data)\n",
        "x_np = torch.from_numpy(np_array)"
      ],
      "metadata": {
        "id": "U6eG9zA1scz8"
      },
      "execution_count": 109,
      "outputs": []
    },
    {
      "cell_type": "markdown",
      "source": [
        "### 3. 다른 텐서로부터 생성하기"
      ],
      "metadata": {
        "id": "30giqZIAtByM"
      }
    },
    {
      "cell_type": "markdown",
      "source": [
        "- 인자로 주어진 텐서의 속성(shape, datatype) 유지"
      ],
      "metadata": {
        "id": "IjY9FFBxt0RD"
      }
    },
    {
      "cell_type": "code",
      "source": [
        "x_ones = torch.ones_like(x_data)\n",
        "print(f\"Ones Tensor: \\n {x_ones}\\n\")"
      ],
      "metadata": {
        "colab": {
          "base_uri": "https://localhost:8080/"
        },
        "id": "HbkgHKRgsugL",
        "outputId": "5b5de104-6551-4a14-fb17-6812a02dcb9b"
      },
      "execution_count": 110,
      "outputs": [
        {
          "output_type": "stream",
          "name": "stdout",
          "text": [
            "Ones Tensor: \n",
            " tensor([[1, 1],\n",
            "        [1, 1]])\n",
            "\n"
          ]
        }
      ]
    },
    {
      "cell_type": "code",
      "source": [
        "x_zeros = torch.zeros_like(x_data)\n",
        "print(f\"Zeros Tensor: \\n {x_zeros}\\n\")"
      ],
      "metadata": {
        "colab": {
          "base_uri": "https://localhost:8080/"
        },
        "id": "GNaIc-EUuBBT",
        "outputId": "b1f6170c-2a0c-4bdb-d9c8-9649d70778d4"
      },
      "execution_count": 111,
      "outputs": [
        {
          "output_type": "stream",
          "name": "stdout",
          "text": [
            "Zeros Tensor: \n",
            " tensor([[0, 0],\n",
            "        [0, 0]])\n",
            "\n"
          ]
        }
      ]
    },
    {
      "cell_type": "code",
      "source": [
        "x_rand = torch.rand_like(x_data, dtype=torch.float) # x_data의 속성을 덮어씁니다.\n",
        "print(f\"Random Tensor: \\n{x_rand}\\n\")"
      ],
      "metadata": {
        "colab": {
          "base_uri": "https://localhost:8080/"
        },
        "id": "2d9Mjv-2tfmK",
        "outputId": "33fff499-bfb3-4e06-8aa5-02708935e37c"
      },
      "execution_count": 112,
      "outputs": [
        {
          "output_type": "stream",
          "name": "stdout",
          "text": [
            "Random Tensor: \n",
            "tensor([[0.2611, 0.4221],\n",
            "        [0.1022, 0.1578]])\n",
            "\n"
          ]
        }
      ]
    },
    {
      "cell_type": "markdown",
      "source": [
        "### 4. 무작위 random 또는 상수 constant 값을 사용하기"
      ],
      "metadata": {
        "id": "Ltoq4fI5uj8v"
      }
    },
    {
      "cell_type": "markdown",
      "source": [
        "- shape: 텐서의 차원(dimension)을 나타내는 tuple\n",
        "- 아래 예시들에서 shape가 출력 텐서의 차원을 결정한다."
      ],
      "metadata": {
        "id": "aEL5zxlQv7Cl"
      }
    },
    {
      "cell_type": "code",
      "source": [
        "shape = (2,3,)\n",
        "rand_tensor = torch.rand(shape)\n",
        "ones_tensor = torch.ones(shape)\n",
        "zeros_tensor = torch.zeros(shape)\n",
        "\n",
        "print(f\"Random Tensor: \\n {rand_tensor} \\n\")\n",
        "print(f\"Ones Tensor: \\n {ones_tensor} \\n\")\n",
        "print(f\"Zeros Tensor: \\n {zeros_tensor}\")"
      ],
      "metadata": {
        "colab": {
          "base_uri": "https://localhost:8080/"
        },
        "id": "OulKaXqctsWV",
        "outputId": "73e5f61a-f66c-4604-9c16-3f16a035aa76"
      },
      "execution_count": 113,
      "outputs": [
        {
          "output_type": "stream",
          "name": "stdout",
          "text": [
            "Random Tensor: \n",
            " tensor([[0.0773, 0.7698, 0.5426],\n",
            "        [0.4634, 0.3430, 0.5962]]) \n",
            "\n",
            "Ones Tensor: \n",
            " tensor([[1., 1., 1.],\n",
            "        [1., 1., 1.]]) \n",
            "\n",
            "Zeros Tensor: \n",
            " tensor([[0., 0., 0.],\n",
            "        [0., 0., 0.]])\n"
          ]
        }
      ]
    },
    {
      "cell_type": "markdown",
      "source": [
        "## tensor의 attrubute(속성)"
      ],
      "metadata": {
        "id": "NogLNNWJweEA"
      }
    },
    {
      "cell_type": "markdown",
      "source": [
        ": 텐서의 shape, datatype, 어느 장치에 저장되는가"
      ],
      "metadata": {
        "id": "E8Y-jJLywj02"
      }
    },
    {
      "cell_type": "code",
      "source": [
        "tensor = torch.rand(3,4)\n",
        "\n",
        "print(f\"Shape of tensor: {tensor.shape}\")\n",
        "print(f\"Datatype of tensor: {tensor.dtype}\")\n",
        "print(f\"Device tensor is stored on: {tensor.device}\")"
      ],
      "metadata": {
        "colab": {
          "base_uri": "https://localhost:8080/"
        },
        "id": "KLAoee3pxmrK",
        "outputId": "061fd3c7-a602-47cd-b5b6-33929b61c0bb"
      },
      "execution_count": 114,
      "outputs": [
        {
          "output_type": "stream",
          "name": "stdout",
          "text": [
            "Shape of tensor: torch.Size([3, 4])\n",
            "Datatype of tensor: torch.float32\n",
            "Device tensor is stored on: cpu\n"
          ]
        }
      ]
    },
    {
      "cell_type": "markdown",
      "source": [
        "## Tensor Operation(연산)"
      ],
      "metadata": {
        "id": "BkZ7lQlSy7Am"
      }
    },
    {
      "cell_type": "code",
      "source": [
        "# GPU가 존재하면 텐서를 이동합니다\n",
        "if torch.cuda.is_available():\n",
        "    tensor = tensor.to(\"cuda\")"
      ],
      "metadata": {
        "id": "-HTPq-RDyfDf"
      },
      "execution_count": 115,
      "outputs": []
    },
    {
      "cell_type": "markdown",
      "source": [
        "#### 연산하기 전 먼저 tensor 생성하기"
      ],
      "metadata": {
        "id": "vgHvNVKG3KUN"
      }
    },
    {
      "cell_type": "code",
      "source": [
        "arr = np.arange(1,17)\n",
        "arr = arr.astype(np.float32)\n",
        "arr"
      ],
      "metadata": {
        "colab": {
          "base_uri": "https://localhost:8080/"
        },
        "id": "EkCm-LoM2K-D",
        "outputId": "82807921-6ce3-4e5c-f543-a03da3b88ab8"
      },
      "execution_count": 116,
      "outputs": [
        {
          "output_type": "execute_result",
          "data": {
            "text/plain": [
              "array([ 1.,  2.,  3.,  4.,  5.,  6.,  7.,  8.,  9., 10., 11., 12., 13.,\n",
              "       14., 15., 16.], dtype=float32)"
            ]
          },
          "metadata": {},
          "execution_count": 116
        }
      ]
    },
    {
      "cell_type": "code",
      "source": [
        "arr.shape=(4,4)"
      ],
      "metadata": {
        "id": "fpWAYHAb204-"
      },
      "execution_count": 117,
      "outputs": []
    },
    {
      "cell_type": "code",
      "source": [
        "tensor = torch.from_numpy(arr)"
      ],
      "metadata": {
        "id": "M5sjTQuDzBnh"
      },
      "execution_count": 118,
      "outputs": []
    },
    {
      "cell_type": "code",
      "source": [
        "# tensor = tensor.float() # casting(형변환)"
      ],
      "metadata": {
        "id": "1w-DJQeTzTGK"
      },
      "execution_count": 119,
      "outputs": []
    },
    {
      "cell_type": "code",
      "source": [
        "tensor.dtype"
      ],
      "metadata": {
        "colab": {
          "base_uri": "https://localhost:8080/"
        },
        "id": "ETqnSh72zUAD",
        "outputId": "6d7da3ac-8cc5-41ca-d7dd-4ee6c10fe44e"
      },
      "execution_count": 120,
      "outputs": [
        {
          "output_type": "execute_result",
          "data": {
            "text/plain": [
              "torch.float32"
            ]
          },
          "metadata": {},
          "execution_count": 120
        }
      ]
    },
    {
      "cell_type": "markdown",
      "source": [
        "### indexing, slicing"
      ],
      "metadata": {
        "id": "njKAaOmu3T96"
      }
    },
    {
      "cell_type": "code",
      "source": [
        "print(f\"First row: {tensor[0]}\")\n",
        "print(f\"First column: {tensor[:, 0]}\")\n",
        "print(f\"Last column: {tensor[..., -1]}\")\n",
        "tensor[:,1] = 0\n",
        "print(tensor)"
      ],
      "metadata": {
        "colab": {
          "base_uri": "https://localhost:8080/"
        },
        "id": "f4T4QS4A3nci",
        "outputId": "a5d64c77-3bd3-4f29-d459-3d68cacb3c65"
      },
      "execution_count": 121,
      "outputs": [
        {
          "output_type": "stream",
          "name": "stdout",
          "text": [
            "First row: tensor([1., 2., 3., 4.])\n",
            "First column: tensor([ 1.,  5.,  9., 13.])\n",
            "Last column: tensor([ 4.,  8., 12., 16.])\n",
            "tensor([[ 1.,  0.,  3.,  4.],\n",
            "        [ 5.,  0.,  7.,  8.],\n",
            "        [ 9.,  0., 11., 12.],\n",
            "        [13.,  0., 15., 16.]])\n"
          ]
        }
      ]
    },
    {
      "cell_type": "markdown",
      "source": [
        "### tensor 합치기"
      ],
      "metadata": {
        "id": "jz_JlApE35BU"
      }
    },
    {
      "cell_type": "markdown",
      "source": [
        "torch.cat"
      ],
      "metadata": {
        "id": "wHibjUYi4dFD"
      }
    },
    {
      "cell_type": "code",
      "source": [
        "t1 = torch.cat([tensor,tensor,tensor],dim=1)\n",
        "print(t1)\n",
        "print(t1.shape) # (4,4) -> (4,12)"
      ],
      "metadata": {
        "colab": {
          "base_uri": "https://localhost:8080/"
        },
        "id": "EMPQLbBK3yMw",
        "outputId": "cefcd973-6a54-403b-af82-731a7cb7394f"
      },
      "execution_count": 122,
      "outputs": [
        {
          "output_type": "stream",
          "name": "stdout",
          "text": [
            "tensor([[ 1.,  0.,  3.,  4.,  1.,  0.,  3.,  4.,  1.,  0.,  3.,  4.],\n",
            "        [ 5.,  0.,  7.,  8.,  5.,  0.,  7.,  8.,  5.,  0.,  7.,  8.],\n",
            "        [ 9.,  0., 11., 12.,  9.,  0., 11., 12.,  9.,  0., 11., 12.],\n",
            "        [13.,  0., 15., 16., 13.,  0., 15., 16., 13.,  0., 15., 16.]])\n",
            "torch.Size([4, 12])\n"
          ]
        }
      ]
    },
    {
      "cell_type": "markdown",
      "source": [
        "torch.stack"
      ],
      "metadata": {
        "id": "6wcmK5fq4fK3"
      }
    },
    {
      "cell_type": "code",
      "source": [
        "t2 = torch.stack([tensor,tensor,tensor],dim=1)\n",
        "print(t2)\n",
        "print(t2.shape) # (4,4) -> (4,3,4)"
      ],
      "metadata": {
        "colab": {
          "base_uri": "https://localhost:8080/"
        },
        "id": "sgREtaNX4JQu",
        "outputId": "ef5a84fc-b016-44cf-c734-d8528d935dda"
      },
      "execution_count": 123,
      "outputs": [
        {
          "output_type": "stream",
          "name": "stdout",
          "text": [
            "tensor([[[ 1.,  0.,  3.,  4.],\n",
            "         [ 1.,  0.,  3.,  4.],\n",
            "         [ 1.,  0.,  3.,  4.]],\n",
            "\n",
            "        [[ 5.,  0.,  7.,  8.],\n",
            "         [ 5.,  0.,  7.,  8.],\n",
            "         [ 5.,  0.,  7.,  8.]],\n",
            "\n",
            "        [[ 9.,  0., 11., 12.],\n",
            "         [ 9.,  0., 11., 12.],\n",
            "         [ 9.,  0., 11., 12.]],\n",
            "\n",
            "        [[13.,  0., 15., 16.],\n",
            "         [13.,  0., 15., 16.],\n",
            "         [13.,  0., 15., 16.]]])\n",
            "torch.Size([4, 3, 4])\n"
          ]
        }
      ]
    },
    {
      "cell_type": "markdown",
      "source": [
        "### 산술연산 (Arithmetric operations)"
      ],
      "metadata": {
        "id": "qqkXMx3T620U"
      }
    },
    {
      "cell_type": "markdown",
      "source": [
        "행렬곱 matrix multiplication"
      ],
      "metadata": {
        "id": "SgItJD7g7Lgs"
      }
    },
    {
      "cell_type": "code",
      "source": [
        "tensor"
      ],
      "metadata": {
        "colab": {
          "base_uri": "https://localhost:8080/"
        },
        "id": "ShDuwM-T7WbQ",
        "outputId": "b3455af3-7b72-4edd-b243-246bdcbf5037"
      },
      "execution_count": 124,
      "outputs": [
        {
          "output_type": "execute_result",
          "data": {
            "text/plain": [
              "tensor([[ 1.,  0.,  3.,  4.],\n",
              "        [ 5.,  0.,  7.,  8.],\n",
              "        [ 9.,  0., 11., 12.],\n",
              "        [13.,  0., 15., 16.]])"
            ]
          },
          "metadata": {},
          "execution_count": 124
        }
      ]
    },
    {
      "cell_type": "code",
      "source": [
        "tensor.T"
      ],
      "metadata": {
        "colab": {
          "base_uri": "https://localhost:8080/"
        },
        "id": "bu7CZaby7Two",
        "outputId": "10e28901-9fb4-43ca-cb89-cdbf3c6be11c"
      },
      "execution_count": 125,
      "outputs": [
        {
          "output_type": "execute_result",
          "data": {
            "text/plain": [
              "tensor([[ 1.,  5.,  9., 13.],\n",
              "        [ 0.,  0.,  0.,  0.],\n",
              "        [ 3.,  7., 11., 15.],\n",
              "        [ 4.,  8., 12., 16.]])"
            ]
          },
          "metadata": {},
          "execution_count": 125
        }
      ]
    },
    {
      "cell_type": "code",
      "source": [
        "y1 = tensor@tensor.T\n",
        "print(y1)\n",
        "\n",
        "y2 = tensor.matmul(tensor.T)\n",
        "print(y2)\n",
        "\n",
        "y3 = torch.rand_like(tensor)\n",
        "torch.matmul(tensor, tensor.T, out=y3)\n",
        "print(y3)"
      ],
      "metadata": {
        "colab": {
          "base_uri": "https://localhost:8080/"
        },
        "id": "XaUyazWJ69Gu",
        "outputId": "19cdcbea-96ea-4f7a-a5f6-412244a5eda0"
      },
      "execution_count": 126,
      "outputs": [
        {
          "output_type": "stream",
          "name": "stdout",
          "text": [
            "tensor([[ 26.,  58.,  90., 122.],\n",
            "        [ 58., 138., 218., 298.],\n",
            "        [ 90., 218., 346., 474.],\n",
            "        [122., 298., 474., 650.]])\n",
            "tensor([[ 26.,  58.,  90., 122.],\n",
            "        [ 58., 138., 218., 298.],\n",
            "        [ 90., 218., 346., 474.],\n",
            "        [122., 298., 474., 650.]])\n",
            "tensor([[ 26.,  58.,  90., 122.],\n",
            "        [ 58., 138., 218., 298.],\n",
            "        [ 90., 218., 346., 474.],\n",
            "        [122., 298., 474., 650.]])\n"
          ]
        }
      ]
    },
    {
      "cell_type": "code",
      "source": [
        "agg = tensor.sum()\n",
        "agg_item =agg.item()\n",
        "print(agg_item, type(agg_item))"
      ],
      "metadata": {
        "colab": {
          "base_uri": "https://localhost:8080/"
        },
        "id": "CYC4Ovc27aOW",
        "outputId": "f1f7c9d8-6dc2-4f04-f78e-63ba479ddb0e"
      },
      "execution_count": 127,
      "outputs": [
        {
          "output_type": "stream",
          "name": "stdout",
          "text": [
            "104.0 <class 'float'>\n"
          ]
        }
      ]
    },
    {
      "cell_type": "markdown",
      "source": [
        "tensor와 numpy는 memory 공간을 공유한다. 따라서 하나를 변경하면 다른 하나도 변경된다."
      ],
      "metadata": {
        "id": "VXd0_LoQ9rCV"
      }
    },
    {
      "cell_type": "code",
      "source": [
        "# tensor는 arr라는 numpy 배열을 텐서로 변환해서 만든 tensor 였으므로 \n",
        "# 해당 arr를 다시 조회하면,\n",
        "# 지금까지 tensor를 변경한 내용이 그대로 반영되었음을 알 수 있다.\n",
        "\n",
        "print(f\"arr:\\n{arr}\")\n",
        "print(f\"tensor:\\n{tensor}\")"
      ],
      "metadata": {
        "colab": {
          "base_uri": "https://localhost:8080/"
        },
        "id": "-_iYVtK29QkP",
        "outputId": "1f491ce5-2e15-4761-a36c-27ada284f622"
      },
      "execution_count": 128,
      "outputs": [
        {
          "output_type": "stream",
          "name": "stdout",
          "text": [
            "arr:\n",
            "[[ 1.  0.  3.  4.]\n",
            " [ 5.  0.  7.  8.]\n",
            " [ 9.  0. 11. 12.]\n",
            " [13.  0. 15. 16.]]\n",
            "tensor:\n",
            "tensor([[ 1.,  0.,  3.,  4.],\n",
            "        [ 5.,  0.,  7.,  8.],\n",
            "        [ 9.,  0., 11., 12.],\n",
            "        [13.,  0., 15., 16.]])\n"
          ]
        }
      ]
    },
    {
      "cell_type": "code",
      "source": [
        "# 반대로 tensor를 numpy 배열로 변환한 경우도 똑같음 !!\n",
        "t = torch.ones(5)\n",
        "n = t.numpy()"
      ],
      "metadata": {
        "id": "I9g4jU639RU-"
      },
      "execution_count": 129,
      "outputs": []
    },
    {
      "cell_type": "code",
      "source": [
        "t.add_(1)\n",
        "print(f\"t:\\n{t}\")\n",
        "print(f\"n:\\n{n}\")"
      ],
      "metadata": {
        "colab": {
          "base_uri": "https://localhost:8080/"
        },
        "id": "cXSs3wl0-Fvo",
        "outputId": "f98a5f9a-7bae-4d2d-8dea-8f4a1ba432ed"
      },
      "execution_count": 130,
      "outputs": [
        {
          "output_type": "stream",
          "name": "stdout",
          "text": [
            "t:\n",
            "tensor([2., 2., 2., 2., 2.])\n",
            "n:\n",
            "[2. 2. 2. 2. 2.]\n"
          ]
        }
      ]
    },
    {
      "cell_type": "code",
      "source": [
        ""
      ],
      "metadata": {
        "id": "qFSZU4NG-OuM"
      },
      "execution_count": 130,
      "outputs": []
    },
    {
      "cell_type": "markdown",
      "source": [
        "# 2. DATASET & DATALOADER"
      ],
      "metadata": {
        "id": "bx3hvTsNA_Lg"
      }
    },
    {
      "cell_type": "markdown",
      "source": [
        "- dataset 코드는 readability, modularity를 위해 학습 코드로부터 분리하는 것이 좋다\n",
        "- PyTorch에는 ```torch.utils.data.DataLoader```와 ```torch.utils.data.Dataset```을 통해 pre-loaded dataset이나 가지고 있는 dataset을 사용할 수 있게 한다.\n",
        "- ```Dataset```: sample과 정답 label제공\n",
        "- ```DataLoader```: ```Dataset```을 샘플에 쉽게 접근할 수 있게 iterable한 객체로 감싼다."
      ],
      "metadata": {
        "id": "BWWYLc8NBjK4"
      }
    },
    {
      "cell_type": "markdown",
      "source": [
        "## dataset 불러오기"
      ],
      "metadata": {
        "id": "N9PniHFCBDm4"
      }
    },
    {
      "cell_type": "markdown",
      "source": [
        "- PyTorch의 torchvision에서 Fashion-MNIST 데이터셋 불러와서 사용해보자 \n",
        "  - 60,000개 학습예제\n",
        "  - 10,000개 테스트예제\n",
        "  - grey scale(흑백) 28*28 이미지\n",
        "  - 10개 class 중 하나인 정답 label"
      ],
      "metadata": {
        "id": "5Bh8UZynDWbz"
      }
    },
    {
      "cell_type": "markdown",
      "source": [
        "Parameter\n",
        "- root 는 학습/테스트 데이터가 저장되는 경로입니다.\n",
        "- train 은 학습용 또는 테스트용 데이터셋 여부를 지정합니다.\n",
        "- download=True 는 root 에 데이터가 없는 경우 인터넷에서 다운로드합니다.\n",
        "- transform 과 target_transform 은 특징(feature)과 정답(label) 변형(transform)을 지정합니다."
      ],
      "metadata": {
        "id": "UivfLZy4Dt1b"
      }
    },
    {
      "cell_type": "code",
      "source": [
        "import torch\n",
        "from torch.utils.data import Dataset\n",
        "from torchvision import datasets\n",
        "from torchvision.transforms import ToTensor\n",
        "import matplotlib.pyplot as plt"
      ],
      "metadata": {
        "id": "8LRF30XPCtVc"
      },
      "execution_count": 131,
      "outputs": []
    },
    {
      "cell_type": "code",
      "source": [
        "training_data = datasets.FashionMNIST(\n",
        "    root='data',\n",
        "    train = True,\n",
        "    download = True,\n",
        "    transform = ToTensor()\n",
        ")"
      ],
      "metadata": {
        "colab": {
          "base_uri": "https://localhost:8080/",
          "height": 455,
          "referenced_widgets": [
            "ae9c9d03385b4daf8cfb9c97e7382707",
            "59ea526d9dac45229585d02cc570d5ea",
            "815d9e31a5644f46bb1bc2ce69fb096a",
            "ffdf01a387b44a66950e7862990a0dc8",
            "73aad284746e42b2bf1d2aa599cfb9d4",
            "bef0889a7bb54233bea1a8fa3da1c238",
            "9015f6a8377b4aa293745da8cc697df0",
            "ec42afd83d9542d0aaa447e73c39732f",
            "e0862ec70b4a49f881c703adb533435e",
            "be584bfb5c9d49e2b31f6eebc74d00e1",
            "76dadd6ad4b64330bea566a33073ce18",
            "81c51fb00a544f3087a1cfce6cd161ab",
            "5f046c1622de490db88df25c1628fcf5",
            "9d7a2c8aa9e445c7892ed64e029ea30d",
            "fe57e96183994a1eb007f5798d3bb296",
            "c07102b71eb041c0a5e7585096ba68fe",
            "44db9adb83d84b8b9ef1cfc1f4bbc0f1",
            "d62596f3dc854749aef6f2da5a8cae14",
            "2b0deda6f27240109f984b20b77815df",
            "966b519b328f460b9173d663dde40c3a",
            "5e917c73aa294979aa1bc3bbc6d1b420",
            "e2d0b218674440cbb9e4fa07daa81546",
            "4739865ac9f445db9fd0a3b49faa19bd",
            "3c9a7e5c6b3e4afcbb2935807aaa9be9",
            "61613f6d74984888969a8fffbebb4b0e",
            "fb632d3afd0d4ecead3f2355322a756f",
            "52c79a306f554364b58c8fe5bf383a18",
            "cab028089a8b4f58b0fa5d4cff73b99d",
            "ff20e6ca32cd4140aaba9d728e31be21",
            "66da69eebace4e3b892409d072a264d5",
            "69dd3478f4444598a5bdfb0d33df6485",
            "3f23953a3e954eda9137c2dbc78d51f1",
            "eccb9c3326c1414aa795e8ab0e1e288e",
            "a86ffc56b2424a7191a10112c0446727",
            "7d2731f93a40449083291417447f4314",
            "4a5d705155a34a8ea4211433dbb1e65b",
            "2252c51aede04a88bb635eb5594a36b9",
            "2cee2304797a440c96acc46f2a4dc946",
            "3bbbd91aea524dcd880501f2228ed525",
            "ca8099693643426181362f8faf6ee903",
            "dda98c30459a4106ad38f148a06d6809",
            "0adea5d9bb974c299814ed501799f802",
            "718af5785caf405f934d5531f1e84c6a",
            "f1ab194f1b3b468cb41542144eb92e0a"
          ]
        },
        "id": "8lQcxomqEnNS",
        "outputId": "b8454662-ff4c-4cc9-b780-354616157c50"
      },
      "execution_count": 133,
      "outputs": [
        {
          "output_type": "stream",
          "name": "stdout",
          "text": [
            "Downloading http://fashion-mnist.s3-website.eu-central-1.amazonaws.com/train-images-idx3-ubyte.gz\n",
            "Downloading http://fashion-mnist.s3-website.eu-central-1.amazonaws.com/train-images-idx3-ubyte.gz to data/FashionMNIST/raw/train-images-idx3-ubyte.gz\n"
          ]
        },
        {
          "output_type": "display_data",
          "data": {
            "text/plain": [
              "  0%|          | 0/26421880 [00:00<?, ?it/s]"
            ],
            "application/vnd.jupyter.widget-view+json": {
              "version_major": 2,
              "version_minor": 0,
              "model_id": "ae9c9d03385b4daf8cfb9c97e7382707"
            }
          },
          "metadata": {}
        },
        {
          "output_type": "stream",
          "name": "stdout",
          "text": [
            "Extracting data/FashionMNIST/raw/train-images-idx3-ubyte.gz to data/FashionMNIST/raw\n",
            "\n",
            "Downloading http://fashion-mnist.s3-website.eu-central-1.amazonaws.com/train-labels-idx1-ubyte.gz\n",
            "Downloading http://fashion-mnist.s3-website.eu-central-1.amazonaws.com/train-labels-idx1-ubyte.gz to data/FashionMNIST/raw/train-labels-idx1-ubyte.gz\n"
          ]
        },
        {
          "output_type": "display_data",
          "data": {
            "text/plain": [
              "  0%|          | 0/29515 [00:00<?, ?it/s]"
            ],
            "application/vnd.jupyter.widget-view+json": {
              "version_major": 2,
              "version_minor": 0,
              "model_id": "81c51fb00a544f3087a1cfce6cd161ab"
            }
          },
          "metadata": {}
        },
        {
          "output_type": "stream",
          "name": "stdout",
          "text": [
            "Extracting data/FashionMNIST/raw/train-labels-idx1-ubyte.gz to data/FashionMNIST/raw\n",
            "\n",
            "Downloading http://fashion-mnist.s3-website.eu-central-1.amazonaws.com/t10k-images-idx3-ubyte.gz\n",
            "Downloading http://fashion-mnist.s3-website.eu-central-1.amazonaws.com/t10k-images-idx3-ubyte.gz to data/FashionMNIST/raw/t10k-images-idx3-ubyte.gz\n"
          ]
        },
        {
          "output_type": "display_data",
          "data": {
            "text/plain": [
              "  0%|          | 0/4422102 [00:00<?, ?it/s]"
            ],
            "application/vnd.jupyter.widget-view+json": {
              "version_major": 2,
              "version_minor": 0,
              "model_id": "4739865ac9f445db9fd0a3b49faa19bd"
            }
          },
          "metadata": {}
        },
        {
          "output_type": "stream",
          "name": "stdout",
          "text": [
            "Extracting data/FashionMNIST/raw/t10k-images-idx3-ubyte.gz to data/FashionMNIST/raw\n",
            "\n",
            "Downloading http://fashion-mnist.s3-website.eu-central-1.amazonaws.com/t10k-labels-idx1-ubyte.gz\n",
            "Downloading http://fashion-mnist.s3-website.eu-central-1.amazonaws.com/t10k-labels-idx1-ubyte.gz to data/FashionMNIST/raw/t10k-labels-idx1-ubyte.gz\n"
          ]
        },
        {
          "output_type": "display_data",
          "data": {
            "text/plain": [
              "  0%|          | 0/5148 [00:00<?, ?it/s]"
            ],
            "application/vnd.jupyter.widget-view+json": {
              "version_major": 2,
              "version_minor": 0,
              "model_id": "a86ffc56b2424a7191a10112c0446727"
            }
          },
          "metadata": {}
        },
        {
          "output_type": "stream",
          "name": "stdout",
          "text": [
            "Extracting data/FashionMNIST/raw/t10k-labels-idx1-ubyte.gz to data/FashionMNIST/raw\n",
            "\n"
          ]
        }
      ]
    },
    {
      "cell_type": "code",
      "source": [
        "test_data = datasets.FashionMNIST(\n",
        "    root = 'data',\n",
        "    train = False,\n",
        "    download = True,\n",
        "    transform = ToTensor()\n",
        ")"
      ],
      "metadata": {
        "id": "hWsSDYJkE2l_"
      },
      "execution_count": 134,
      "outputs": []
    },
    {
      "cell_type": "markdown",
      "source": [
        "## 데이터셋 순회, 시각화"
      ],
      "metadata": {
        "id": "ZkdyGzTlGYBX"
      }
    },
    {
      "cell_type": "markdown",
      "source": [
        "- ```Dataset```에 list 처럼 index로 접근할 수 있다."
      ],
      "metadata": {
        "id": "tVcoyGZmGbUN"
      }
    },
    {
      "cell_type": "code",
      "source": [
        "labels_map = {\n",
        "    0: \"T-Shirt\",\n",
        "    1: \"Trouser\",\n",
        "    2: \"Pullover\",\n",
        "    3: \"Dress\",\n",
        "    4: \"Coat\",\n",
        "    5: \"Sandal\",\n",
        "    6: \"Shirt\",\n",
        "    7: \"Sneaker\",\n",
        "    8: \"Bag\",\n",
        "    9: \"Ankle Boot\",\n",
        "}\n",
        "figure = plt.figure(figsize=(8, 8))\n",
        "cols, rows = 3, 3\n",
        "for i in range(1, cols * rows + 1):\n",
        "    sample_idx = torch.randint(len(training_data), size=(1,)).item()\n",
        "    img, label = training_data[sample_idx]\n",
        "    figure.add_subplot(rows, cols, i)\n",
        "    plt.title(labels_map[label])\n",
        "    plt.axis(\"off\")\n",
        "    plt.imshow(img.squeeze(), cmap=\"gray\")\n",
        "plt.show()"
      ],
      "metadata": {
        "colab": {
          "base_uri": "https://localhost:8080/",
          "height": 482
        },
        "id": "IbPRpfiJFHJC",
        "outputId": "f084e433-faaa-44f7-d149-0a8221533b2b"
      },
      "execution_count": 136,
      "outputs": [
        {
          "output_type": "display_data",
          "data": {
            "text/plain": [
              "<Figure size 576x576 with 9 Axes>"
            ],
            "image/png": "[encoded data removed]"
          },
          "metadata": {
            "needs_background": "light"
          }
        }
      ]
    },
    {
      "cell_type": "markdown",
      "source": [
        "## 파일에서 사용자 정의 데이터셋 만들기"
      ],
      "metadata": {
        "id": "5NTV6y2WHYfG"
      }
    },
    {
      "cell_type": "markdown",
      "source": [
        "- 사용자 정의 dataset class 는 세 개 함수 구현 필수 !!\n",
        "  1. __init__\n",
        "  2. __len__\n",
        "  3. __getitem__"
      ],
      "metadata": {
        "id": "qZ6mhhG6HcHN"
      }
    },
    {
      "cell_type": "code",
      "source": [
        "import os\n",
        "import pandas as pd\n",
        "from torchvision.io import read_image"
      ],
      "metadata": {
        "id": "BPvsDxxWGrI7"
      },
      "execution_count": 138,
      "outputs": []
    },
    {
      "cell_type": "code",
      "source": [
        "class CustomImageDataset(Dataset):\n",
        "\n",
        "  # __init__: Dataset의 instance가 생성될 때 한 번만 실행됨\n",
        "  # 이 예시에서는 이미지와 annotation_file 포함된 디렉토리와 두가지 transform 초기화\n",
        "  def __init__(self, annotations_file, img_dir, transform = None, target_transform= None):\n",
        "        self.img_labels = pd.read_csv(annotations_file, names=['file_name', 'label'])\n",
        "        self.img_dir = img_dir\n",
        "        self.transform = transform\n",
        "        self.target_transform = target_transform\n",
        "\n",
        "  # __len__: 데이터셋의 샘플 개수 반환\n",
        "  def __len__(self):\n",
        "      return len(self.img_labels)\n",
        "\n",
        "  # __getitem__: 주어진 idx에 해당하는 샘플 데이터셋에서 불러오고 반환\n",
        "  #  인덱스를 기반으로, 디스크에서 이미지의 위치를 식별하고, \n",
        "  #  read_image 를 사용하여 이미지를 텐서로 변환하고,\n",
        "  #  self.img_labels 의 csv 데이터로부터 해당하는 정답(label)을 가져오고,\n",
        "  # (해당하는 경우) 변형(transform) 함수들을 호출한 뒤,\n",
        "  # 텐서 이미지와 라벨을 Python 사전(dict)형으로 반환합니다.\n",
        "  def __getitem__(self, idx):\n",
        "      img_path = os.path.join(self.img_dir, self.img_labels.iloc[idx, 0])\n",
        "      image = read_image(img_path)\n",
        "      label = self.img_labels.iloc[idx, 1]\n",
        "      if self.transform:\n",
        "          image = self.transform(image)\n",
        "      if self.target_transform:\n",
        "          label = self.target_transform(label)\n",
        "      return image, label"
      ],
      "metadata": {
        "id": "H72WD2hvH0ie"
      },
      "execution_count": null,
      "outputs": []
    },
    {
      "cell_type": "markdown",
      "source": [
        "## DataLoader로 학습용 데이터 준비하기"
      ],
      "metadata": {
        "id": "DoIseNHXKTwi"
      }
    },
    {
      "cell_type": "markdown",
      "source": [
        "- ```Dataset```: 데이터셋의 feature 가져오고 하나의 샘플에 정답 label 지정하는 일을 한 번에 한다.\n",
        "  - (모델을 학습할 때, 일반적으로 샘플들을“미니배치(minibatch)”로 전달하고, 매 에폭(epoch)마다 데이터를 다시 섞어서 과적합(overfit)을 막고, Python의 multiprocessing 을 사용하여 데이터 검색 속도를 높이려고 합니다.)\n",
        "- ```DataLoader```: 간단한 API로 이러한 복잡한 과정들을 추상화한 순회 가능한 객체(iterable)\n"
      ],
      "metadata": {
        "id": "aKGBlUUMKw73"
      }
    },
    {
      "cell_type": "code",
      "source": [
        "from torch.utils.data import DataLoader\n",
        "\n",
        "train_dataloader = DataLoader(training_data, batch_size=64, shuffle=True)\n",
        "test_dataloader = DataLoader(test_data, batch_size=64, shuffle=True)"
      ],
      "metadata": {
        "id": "_yroOPrcKnGq"
      },
      "execution_count": 140,
      "outputs": []
    },
    {
      "cell_type": "markdown",
      "source": [
        "## DataLoader 통해 iterate 하기"
      ],
      "metadata": {
        "id": "UDjoj-zNLTwg"
      }
    },
    {
      "cell_type": "code",
      "source": [
        "# 이미지와 정답(label)을 표시합니다.\n",
        "train_features, train_labels = next(iter(train_dataloader))\n",
        "print(f\"Feature batch shape: {train_features.size()}\")\n",
        "print(f\"Labels batch shape: {train_labels.size()}\")\n",
        "img = train_features[0].squeeze()\n",
        "label = train_labels[0]\n",
        "plt.imshow(img, cmap=\"gray\")\n",
        "plt.show()\n",
        "print(f\"Label: {label}\")"
      ],
      "metadata": {
        "colab": {
          "base_uri": "https://localhost:8080/",
          "height": 319
        },
        "id": "mteBCqu_Ke9N",
        "outputId": "ae1094aa-6696-44c3-a073-d115f565944c"
      },
      "execution_count": 145,
      "outputs": [
        {
          "output_type": "stream",
          "name": "stdout",
          "text": [
            "Feature batch shape: torch.Size([64, 1, 28, 28])\n",
            "Labels batch shape: torch.Size([64])\n"
          ]
        },
        {
          "output_type": "display_data",
          "data": {
            "text/plain": [
              "<Figure size 432x288 with 1 Axes>"
            ],
            "image/png": "[encoded data removed]"
          },
          "metadata": {
            "needs_background": "light"
          }
        },
        {
          "output_type": "stream",
          "name": "stdout",
          "text": [
            "Label: 3\n"
          ]
        }
      ]
    },
    {
      "cell_type": "markdown",
      "source": [
        "# Data Transform\n",
        "- data를 학습에 필요한 형태로 조작하여 학습에 적합하게 만들기"
      ],
      "metadata": {
        "id": "q0Y04deeL7aT"
      }
    },
    {
      "cell_type": "markdown",
      "source": [
        "모든 TorchVision dataset들은 변형 로직을 갖는 callable한 객체를 받는 매개변수 두 개를 갖는다\n",
        "- 1) feature를 변경하기 위한 transform \n",
        "- 2) 정답을 변경하기 위한 target_transform "
      ],
      "metadata": {
        "id": "HkHndw-8O6xJ"
      }
    },
    {
      "cell_type": "markdown",
      "source": [
        "torchvision.transform 모듈은 주로 사용하는 몇 가지 transform을 제공한다."
      ],
      "metadata": {
        "id": "Rr5ghiPePain"
      }
    },
    {
      "cell_type": "code",
      "source": [
        "# Fashion MNIST의 feature은 PIL Image 형식/ label이 integer\n",
        "# 학습을 하려면\n",
        "# 1) normalize(정규화)된 텐서 형태의 feature과\n",
        "# 2) one-hot encoding 된 텐서형태의 label 필요\n",
        "# 이러한 transformation을 위해 ToTensor, Lambda 사용한다.\n",
        "\n",
        "import torch\n",
        "from torchvision import datasets\n",
        "from torchvision.transforms import ToTensor, Lambda\n",
        "\n",
        "ds = datasets.FashionMNIST(\n",
        "    root=\"data\",\n",
        "    train=True,\n",
        "    download=True,\n",
        "    transform=ToTensor(),\n",
        "    target_transform=Lambda(lambda y: torch.zeros(10, dtype=torch.float).scatter_(0, torch.tensor(y), value=1))\n",
        ")\n"
      ],
      "metadata": {
        "id": "qSJWaYf8PnnF"
      },
      "execution_count": null,
      "outputs": []
    },
    {
      "cell_type": "markdown",
      "source": [
        "### 1) ToTensor\n",
        "-  PIL Image나 NumPy ndarray 를 FloatTensor 로 변환하고, 이미지의 픽셀의 크기(intensity) 값을 [0., 1.] 범위로 비례하여 조정(scale)"
      ],
      "metadata": {
        "id": "Gb9TroZmSVg5"
      }
    },
    {
      "cell_type": "markdown",
      "source": [
        "### 2) Lambda Transform\n",
        "- 사용자 정의 람다(lambda) 함수를 적용\n",
        "- 정수를 one-hot encoding된 tensor로 바꾸는 함수 정의\n",
        "- (데이터셋 정답의 개수인) 크기 10짜리 영 텐서(zero tensor)를 만들고, scatter_ 를 호출하여 주어진 정답 y 에 해당하는 인덱스에 value=1 을 할당"
      ],
      "metadata": {
        "id": "ZqaarwJHSdpq"
      }
    },
    {
      "cell_type": "markdown",
      "source": [
        "#### +) labda"
      ],
      "metadata": {
        "id": "xEDHXETSRpJK"
      }
    },
    {
      "cell_type": "markdown",
      "source": [
        "lamda 매개변수 : 표현식"
      ],
      "metadata": {
        "id": "FS7Ux7VgRvYb"
      }
    },
    {
      "cell_type": "code",
      "source": [
        "def sum(x,y):\n",
        "  return x+y\n",
        "\n",
        "sum(10,20)"
      ],
      "metadata": {
        "colab": {
          "base_uri": "https://localhost:8080/"
        },
        "id": "UPixCN-UR2aN",
        "outputId": "f64c0d5f-7b0f-42e0-a89b-f39e06454c4e"
      },
      "execution_count": 147,
      "outputs": [
        {
          "output_type": "execute_result",
          "data": {
            "text/plain": [
              "30"
            ]
          },
          "metadata": {},
          "execution_count": 147
        }
      ]
    },
    {
      "cell_type": "code",
      "source": [
        "(lambda x,y: x+y)(10,20)\n",
        "# 매개변수를 표현식대로 표현해준다."
      ],
      "metadata": {
        "colab": {
          "base_uri": "https://localhost:8080/"
        },
        "id": "RX5G7bGUR96p",
        "outputId": "cba1ccfe-0cd1-42e6-a7be-0f867c0e503c"
      },
      "execution_count": 148,
      "outputs": [
        {
          "output_type": "execute_result",
          "data": {
            "text/plain": [
              "30"
            ]
          },
          "metadata": {},
          "execution_count": 148
        }
      ]
    },
    {
      "cell_type": "code",
      "source": [
        ""
      ],
      "metadata": {
        "id": "aNaszJ_WSE09"
      },
      "execution_count": null,
      "outputs": []
    }
  ]
}