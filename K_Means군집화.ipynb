{
  "nbformat": 4,
  "nbformat_minor": 0,
  "metadata": {
    "colab": {
      "name": "K-Means군집화.ipynb",
      "provenance": [],
      "collapsed_sections": [],
      "authorship_tag": "ABX9TyP7tWp6ABL6mnQedWKlql9w",
      "include_colab_link": true
    },
    "kernelspec": {
      "name": "python3",
      "display_name": "Python 3"
    },
    "language_info": {
      "name": "python"
    }
  },
  "cells": [
    {
      "cell_type": "markdown",
      "metadata": {
        "id": "view-in-github",
        "colab_type": "text"
      },
      "source": [
        "<a href=\"https://colab.research.google.com/github/haebarassi/DeepLearing/blob/main/K_Means%EA%B5%B0%EC%A7%91%ED%99%94.ipynb\" target=\"_parent\"><img src=\"https://colab.research.google.com/assets/colab-badge.svg\" alt=\"Open In Colab\"/></a>"
      ]
    },
    {
      "cell_type": "markdown",
      "metadata": {
        "id": "JqgH5_TfMHxw"
      },
      "source": [
        "# K-Means"
      ]
    },
    {
      "cell_type": "code",
      "metadata": {
        "id": "gwKG9XGYLACU"
      },
      "source": [
        "%matplotlib inline\n",
        "import numpy as np\n",
        "import matplotlib.pyplot as plt"
      ],
      "execution_count": 135,
      "outputs": []
    },
    {
      "cell_type": "code",
      "metadata": {
        "id": "JZPEOlggMNh3"
      },
      "source": [
        "dataset = np.array([[ 1.658985,  4.285136],\n",
        "       [-3.453687,  3.424321],\n",
        "       [ 4.838138, -1.151539],\n",
        "       [-5.379713, -3.362104],\n",
        "       [ 0.972564,  2.924086],\n",
        "       [-3.567919,  1.531611],\n",
        "       [ 0.450614, -3.302219],\n",
        "       [-3.487105, -1.724432],\n",
        "       [ 2.668759,  1.594842],\n",
        "       [-3.156485,  3.191137],\n",
        "       [ 3.165506, -3.999838],\n",
        "       [-2.786837, -3.099354],\n",
        "       [ 4.208187,  2.984927],\n",
        "       [-2.123337,  2.943366],\n",
        "       [ 0.704199, -0.479481],\n",
        "       [-0.39237 , -3.963704],\n",
        "       [ 2.831667,  1.574018],\n",
        "       [-0.790153,  3.343144],\n",
        "       [ 2.943496, -3.357075],\n",
        "       [-3.195883, -2.283926],\n",
        "       [ 2.336445,  2.875106],\n",
        "       [-1.786345,  2.554248],\n",
        "       [ 2.190101, -1.90602 ],\n",
        "       [-3.403367, -2.778288],\n",
        "       [ 1.778124,  3.880832],\n",
        "       [-1.688346,  2.230267],\n",
        "       [ 2.592976, -2.054368],\n",
        "       [-4.007257, -3.207066],\n",
        "       [ 2.257734,  3.387564],\n",
        "       [-2.679011,  0.785119],\n",
        "       [ 0.939512, -4.023563],\n",
        "       [-3.674424, -2.261084],\n",
        "       [ 2.046259,  2.735279],\n",
        "       [-3.18947 ,  1.780269],\n",
        "       [ 4.372646, -0.822248],\n",
        "       [-2.579316, -3.497576],\n",
        "       [ 1.889034,  5.1904  ],\n",
        "       [-0.798747,  2.185588],\n",
        "       [ 2.83652 , -2.658556],\n",
        "       [-3.837877, -3.253815],\n",
        "       [ 2.096701,  3.886007],\n",
        "       [-2.709034,  2.923887],\n",
        "       [ 3.367037, -3.184789],\n",
        "       [-2.121479, -4.232586],\n",
        "       [ 2.329546,  3.179764],\n",
        "       [-3.284816,  3.273099],\n",
        "       [ 3.091414, -3.815232],\n",
        "       [-3.762093, -2.432191],\n",
        "       [ 3.542056,  2.778832],\n",
        "       [-1.736822,  4.241041],\n",
        "       [ 2.127073, -2.98368 ],\n",
        "       [-4.323818, -3.938116],\n",
        "       [ 3.792121,  5.135768],\n",
        "       [-4.786473,  3.358547],\n",
        "       [ 2.624081, -3.260715],\n",
        "       [-4.009299, -2.978115],\n",
        "       [ 2.493525,  1.96371 ],\n",
        "       [-2.513661,  2.642162],\n",
        "       [ 1.864375, -3.176309],\n",
        "       [-3.171184, -3.572452],\n",
        "       [ 2.89422 ,  2.489128],\n",
        "       [-2.562539,  2.884438],\n",
        "       [ 3.491078, -3.947487],\n",
        "       [-2.565729, -2.012114],\n",
        "       [ 3.332948,  3.983102],\n",
        "       [-1.616805,  3.573188],\n",
        "       [ 2.280615, -2.559444],\n",
        "       [-2.651229, -3.103198],\n",
        "       [ 2.321395,  3.154987],\n",
        "       [-1.685703,  2.939697],\n",
        "       [ 3.031012, -3.620252],\n",
        "       [-4.599622, -2.185829],\n",
        "       [ 4.196223,  1.126677],\n",
        "       [-2.133863,  3.093686],\n",
        "       [ 4.668892, -2.562705],\n",
        "       [-2.793241, -2.149706],\n",
        "       [ 2.884105,  3.043438],\n",
        "       [-2.967647,  2.848696],\n",
        "       [ 4.479332, -1.764772],\n",
        "       [-4.905566, -2.91107 ]])"
      ],
      "execution_count": 136,
      "outputs": []
    },
    {
      "cell_type": "code",
      "metadata": {
        "colab": {
          "base_uri": "https://localhost:8080/",
          "height": 281
        },
        "id": "DhAZNgMoQXgK",
        "outputId": "e83fc4a4-d966-41b8-a8a9-993f4c8ef98e"
      },
      "source": [
        "# 예제 데이터셋 시각화\n",
        "plt.title(\"The Distribution of Point\")\n",
        "plt.scatter(dataset[:,0],dataset[:,1])\n",
        "plt.show()"
      ],
      "execution_count": 137,
      "outputs": [
        {
          "output_type": "display_data",
          "data": {
            "image/png": "[encoded data removed]",
            "text/plain": [
              "<Figure size 432x288 with 1 Axes>"
            ]
          },
          "metadata": {
            "needs_background": "light"
          }
        }
      ]
    },
    {
      "cell_type": "code",
      "metadata": {
        "colab": {
          "base_uri": "https://localhost:8080/",
          "height": 281
        },
        "id": "jYLEPZWZQZaL",
        "outputId": "caafce5e-dbab-4d02-c98c-fe65795dd550"
      },
      "source": [
        "# 예제 데이터셋 시각화\n",
        "plt.title(\"The Distribution of Point\")\n",
        "plt.scatter(dataset[:,0],dataset[:,1],label='dataset')\n",
        "plt.scatter([-3.5,-2,2.5,2.5],[-2.3,3.5,3.8,-2],\n",
        "            s=200, label=\"centroid\", marker='+')\n",
        "plt.legend()\n",
        "plt.show()"
      ],
      "execution_count": 104,
      "outputs": [
        {
          "output_type": "display_data",
          "data": {
            "image/png": "[encoded data removed]",
            "text/plain": [
              "<Figure size 432x288 with 1 Axes>"
            ]
          },
          "metadata": {
            "needs_background": "light"
          }
        }
      ]
    },
    {
      "cell_type": "markdown",
      "metadata": {
        "id": "dLiBcT0Fjzob"
      },
      "source": [
        "4 개 중심점을 잘 잡아야 위 그림처럼 군집을 묶어줄 수 있다. 중심점과 데이터 간 거리를 구하고, 그 거리가 가장 작아지는 중심점을 찾도록 반복적 과정으로 중심점을 옮겨가는 과정이 K-Means 군집화."
      ]
    },
    {
      "cell_type": "markdown",
      "metadata": {
        "id": "X4JS8jkclopf"
      },
      "source": [
        "# Numpy로 K-means 구현해보자\n",
        "1. 초기 중심점으로 둘 K개의 점을 임의로 만들기\n",
        "2. K개의 중심점과 각 데이터 사이의 거리 계산하기 \n",
        "3. 각 데이터를 거리가 가장 가까운 군집으로 할당\n",
        "4. 각 군집별 점들의 평균 계산 -> 군집의 중심점 다시 계산\n",
        "5. 더이상 군집 바뀌지 않을 때까지 반복"
      ]
    },
    {
      "cell_type": "markdown",
      "metadata": {
        "id": "TBMqJLwktddB"
      },
      "source": [
        "### 1. 초기 중심점으로 둘 K개의 점을 임의로 만들기"
      ]
    },
    {
      "cell_type": "markdown",
      "metadata": {
        "id": "i9iapbtomz-F"
      },
      "source": [
        "Numpy의 np.random을 이용하면 데이터의 최소 최대값 범위 안에서 지정한 확률 분포에 따라 임의의 값을 추출할 수 있습니다. 예를 들어 위 데이터셋에서 axis=0축 데이터의 범위 안의 수를 동일한 확률로 뽑고 싶다면, 확률 분포를 연속균등분포(uniform)으로 설정하고 샘플링을 하면 됩니다.\n",
        "``` np.random.uniform(low,high,size)```"
      ]
    },
    {
      "cell_type": "code",
      "metadata": {
        "id": "yB6RakvCihVZ"
      },
      "source": [
        "center_x = np.random.uniform(np.min(dataset[:,0]), np.max(dataset[:,0]), 4)\n",
        "center_y = np.random.uniform(np.min(dataset[:,1]), np.max(dataset[:,1]), 4)\n",
        "centroids = np.stack([center_x,center_y],axis=-1)"
      ],
      "execution_count": 138,
      "outputs": []
    },
    {
      "cell_type": "code",
      "metadata": {
        "colab": {
          "base_uri": "https://localhost:8080/",
          "height": 281
        },
        "id": "08OCMNvWsWnW",
        "outputId": "3524595a-53cb-4a36-ff58-49d2d287853e"
      },
      "source": [
        "# 시각화\n",
        "plt.title(\"The Distribution of Point\")\n",
        "plt.scatter(dataset[:,0],dataset[:,1],label='dataset')\n",
        "plt.scatter(centroids[:,0],centroids[:,1],\n",
        "            s=200, label=\"centroid\", marker='+')\n",
        "plt.legend()\n",
        "plt.show()"
      ],
      "execution_count": 114,
      "outputs": [
        {
          "output_type": "display_data",
          "data": {
            "image/png": "[encoded data removed]",
            "text/plain": [
              "<Figure size 432x288 with 1 Axes>"
            ]
          },
          "metadata": {
            "needs_background": "light"
          }
        }
      ]
    },
    {
      "cell_type": "markdown",
      "metadata": {
        "id": "cTeRdHUstF0T"
      },
      "source": [
        "### 2. K개의 중심점과 각 데이터 사이의 거리 계산하기\n",
        "\n"
      ]
    },
    {
      "cell_type": "markdown",
      "metadata": {
        "id": "dXJ7rNSItoNQ"
      },
      "source": [
        "거리 공식은 KNN 때와 마찬가지로, 아래와 같습니다. 우리는 모든 중심점과 각 데이터 간 거리를 구해야 합니다.\n",
        "Numpy Code의 reshape와 broadcasting을 활용하면 간결하게 나타낼 수 있습니다.\n",
        "\n",
        "$$\n",
        "point1 = (x_1,y_1), point2 = (x_2,y_2)\\mbox{일 때}\\\\\n",
        "distance\\_between\\_point1\\_and\\_point2 = \\sqrt{(x_1-x_2)^2 + (y_1-y_2)^2}\n",
        "$$"
      ]
    },
    {
      "cell_type": "code",
      "metadata": {
        "colab": {
          "base_uri": "https://localhost:8080/"
        },
        "id": "zTxLXXygM7DS",
        "outputId": "2e9584b4-7459-433c-e99a-22b1d64dc72f"
      },
      "source": [
        "datasetX = dataset[:,0].reshape(80,1)\n",
        "datasetY = dataset[:,1].reshape(80,1)\n",
        "centroidsX = centroids[:,0]\n",
        "centroidsY = centroids[:,1]\n",
        "datasetX"
      ],
      "execution_count": 140,
      "outputs": [
        {
          "output_type": "execute_result",
          "data": {
            "text/plain": [
              "array([[ 1.658985],\n",
              "       [-3.453687],\n",
              "       [ 4.838138],\n",
              "       [-5.379713],\n",
              "       [ 0.972564],\n",
              "       [-3.567919],\n",
              "       [ 0.450614],\n",
              "       [-3.487105],\n",
              "       [ 2.668759],\n",
              "       [-3.156485],\n",
              "       [ 3.165506],\n",
              "       [-2.786837],\n",
              "       [ 4.208187],\n",
              "       [-2.123337],\n",
              "       [ 0.704199],\n",
              "       [-0.39237 ],\n",
              "       [ 2.831667],\n",
              "       [-0.790153],\n",
              "       [ 2.943496],\n",
              "       [-3.195883],\n",
              "       [ 2.336445],\n",
              "       [-1.786345],\n",
              "       [ 2.190101],\n",
              "       [-3.403367],\n",
              "       [ 1.778124],\n",
              "       [-1.688346],\n",
              "       [ 2.592976],\n",
              "       [-4.007257],\n",
              "       [ 2.257734],\n",
              "       [-2.679011],\n",
              "       [ 0.939512],\n",
              "       [-3.674424],\n",
              "       [ 2.046259],\n",
              "       [-3.18947 ],\n",
              "       [ 4.372646],\n",
              "       [-2.579316],\n",
              "       [ 1.889034],\n",
              "       [-0.798747],\n",
              "       [ 2.83652 ],\n",
              "       [-3.837877],\n",
              "       [ 2.096701],\n",
              "       [-2.709034],\n",
              "       [ 3.367037],\n",
              "       [-2.121479],\n",
              "       [ 2.329546],\n",
              "       [-3.284816],\n",
              "       [ 3.091414],\n",
              "       [-3.762093],\n",
              "       [ 3.542056],\n",
              "       [-1.736822],\n",
              "       [ 2.127073],\n",
              "       [-4.323818],\n",
              "       [ 3.792121],\n",
              "       [-4.786473],\n",
              "       [ 2.624081],\n",
              "       [-4.009299],\n",
              "       [ 2.493525],\n",
              "       [-2.513661],\n",
              "       [ 1.864375],\n",
              "       [-3.171184],\n",
              "       [ 2.89422 ],\n",
              "       [-2.562539],\n",
              "       [ 3.491078],\n",
              "       [-2.565729],\n",
              "       [ 3.332948],\n",
              "       [-1.616805],\n",
              "       [ 2.280615],\n",
              "       [-2.651229],\n",
              "       [ 2.321395],\n",
              "       [-1.685703],\n",
              "       [ 3.031012],\n",
              "       [-4.599622],\n",
              "       [ 4.196223],\n",
              "       [-2.133863],\n",
              "       [ 4.668892],\n",
              "       [-2.793241],\n",
              "       [ 2.884105],\n",
              "       [-2.967647],\n",
              "       [ 4.479332],\n",
              "       [-4.905566]])"
            ]
          },
          "metadata": {},
          "execution_count": 140
        }
      ]
    },
    {
      "cell_type": "code",
      "metadata": {
        "id": "EOWPVtd1tDSp"
      },
      "source": [
        "## numpy broadcasting 을 활용해 코드 한줄로 모든 centroids 와 모든 데이터간 거리를 계산하세요. \n",
        "dists = np.sqrt((datasetX-centroidsX)**2+(datasetY-centroidsY)**2)"
      ],
      "execution_count": 141,
      "outputs": []
    },
    {
      "cell_type": "code",
      "metadata": {
        "colab": {
          "base_uri": "https://localhost:8080/"
        },
        "id": "RH3N3GDY94AU",
        "outputId": "f2ac3b31-ef24-471c-db54-9a2b5d782204"
      },
      "source": [
        "dists.shape"
      ],
      "execution_count": 142,
      "outputs": [
        {
          "output_type": "execute_result",
          "data": {
            "text/plain": [
              "(80, 4)"
            ]
          },
          "metadata": {},
          "execution_count": 142
        }
      ]
    },
    {
      "cell_type": "markdown",
      "metadata": {
        "id": "nhDilwE1RXsN"
      },
      "source": [
        "### 3. 각 데이터를 거리가 가장 가까운 군집으로 할당\n"
      ]
    },
    {
      "cell_type": "code",
      "metadata": {
        "colab": {
          "base_uri": "https://localhost:8080/"
        },
        "id": "ARqWSV_gR3ej",
        "outputId": "88de4243-2d63-4d3f-ac21-45212dd44563"
      },
      "source": [
        "dists"
      ],
      "execution_count": 143,
      "outputs": [
        {
          "output_type": "execute_result",
          "data": {
            "text/plain": [
              "array([[ 8.37657747,  6.6479175 ,  1.52009367,  6.900535  ],\n",
              "       [ 8.11155042,  8.1480634 ,  6.69658005,  3.10631904],\n",
              "       [ 5.5886801 ,  2.78518296,  5.75601998,  8.99184711],\n",
              "       [ 5.39362421,  7.7633012 , 11.52593355,  3.97148447],\n",
              "       [ 6.9173993 ,  5.42315557,  2.63087322,  5.61106527],\n",
              "       [ 6.50904893,  7.03706751,  7.31403677,  1.24717129],\n",
              "       [ 0.77568941,  2.10223939,  8.13257709,  5.78898193],\n",
              "       [ 4.10910728,  5.83338374,  9.02384151,  2.16289169],\n",
              "       [ 6.13548363,  3.94113787,  2.81118053,  6.80368167],\n",
              "       [ 7.77623706,  7.77309942,  6.44062421,  2.95072742],\n",
              "       [ 3.18171964,  1.87376114,  8.35949777,  8.41368064],\n",
              "       [ 2.89119468,  5.15919265,  9.55024142,  3.6840498 ],\n",
              "       [ 8.09623331,  5.64247297,  1.71834111,  8.63719243],\n",
              "       [ 7.18212412,  6.89264745,  5.48653804,  3.19848807],\n",
              "       [ 3.517306  ,  2.45347711,  5.43444483,  4.80395048],\n",
              "       [ 0.37935198,  3.16167069,  9.05651382,  5.65472146],\n",
              "       [ 6.18997975,  3.93845323,  2.80698816,  6.96036314],\n",
              "       [ 7.30676454,  6.46752882,  4.09555655,  4.39227355],\n",
              "       [ 3.01229417,  1.20394947,  7.72026617,  7.90200348],\n",
              "       [ 3.5778401 ,  5.51080221,  9.20619148,  2.78084997],\n",
              "       [ 7.19283535,  5.20551334,  1.7061156 ,  6.8356189 ],\n",
              "       [ 6.71445321,  6.37794469,  5.28173919,  3.12636893],\n",
              "       [ 2.98823061,  0.44226342,  6.34295713,  6.6179864 ],\n",
              "       [ 3.57606215,  5.73560785,  9.70848681,  3.20963323],\n",
              "       [ 8.00668171,  6.23432998,  1.47879174,  6.7811484 ],\n",
              "       [ 6.37610306,  6.06827018,  5.31115   ,  2.98538244],\n",
              "       [ 3.20820195,  0.39191468,  6.44057637,  7.04730557],\n",
              "       [ 4.0555732 ,  6.38247978, 10.43419244,  3.57789215],\n",
              "       [ 7.65521825,  5.71821002,  1.33808295,  6.96849706],\n",
              "       [ 5.40891826,  5.885882  ,  6.86098313,  1.40727225],\n",
              "       [ 0.96012617,  2.18131529,  8.67673685,  6.62916593],\n",
              "       [ 4.01863432,  5.98954823,  9.52783247,  2.65497369],\n",
              "       [ 6.96956348,  5.07274996,  1.97932549,  6.51442496],\n",
              "       [ 6.52657305,  6.86974775,  6.8693779 ,  1.63796307],\n",
              "       [ 5.37260309,  2.5513629 ,  5.31799318,  8.48088623],\n",
              "       [ 2.59900237,  5.03130318,  9.74033316,  4.12929508],\n",
              "       [ 9.3096617 ,  7.53279981,  1.53285568,  7.62833754],\n",
              "       [ 6.15804763,  5.4852077 ,  4.53156857,  3.70069676],\n",
              "       [ 3.11930407,  0.61642746,  7.02647384,  7.49949174],\n",
              "       [ 3.88063658,  6.22151582, 10.35262748,  3.62937318],\n",
              "       [ 8.08899887,  6.22019113,  1.17979991,  7.05822979],\n",
              "       [ 7.35718869,  7.26947542,  6.05885905,  2.87179523],\n",
              "       [ 3.46180663,  1.35551062,  7.54682724,  8.20171767],\n",
              "       [ 2.12892346,  4.82683636, 10.0947059 ,  4.98099167],\n",
              "       [ 7.47924693,  5.51014596,  1.45283813,  6.94670505],\n",
              "       [ 7.90350313,  7.92171817,  6.55277869,  2.99494035],\n",
              "       [ 3.10853398,  1.67573473,  8.17533416,  8.25533449],\n",
              "       [ 4.03229991,  6.07766968,  9.70997541,  2.81517928],\n",
              "       [ 7.58691692,  5.2545417 ,  1.62236646,  7.93992889],\n",
              "       [ 8.34300734,  7.71999735,  4.91550442,  4.49551103],\n",
              "       [ 2.33898824,  0.67973312,  7.41804503,  7.00621176],\n",
              "       [ 4.30857506,  6.83045437, 11.18565978,  4.31932811],\n",
              "       [ 9.8258303 ,  7.61090012,  0.99016245,  9.15397889],\n",
              "       [ 8.70498652,  9.09893832,  8.026401  ,  3.08353932],\n",
              "       [ 2.72103482,  0.98043801,  7.64041774,  7.57519311],\n",
              "       [ 4.10413942,  6.35710982, 10.27079943,  3.34893426],\n",
              "       [ 6.39847975,  4.29779298,  2.4915893 ,  6.70927111],\n",
              "       [ 7.02393326,  6.93103835,  5.94443031,  2.72763354],\n",
              "       [ 2.02231235,  0.95835282,  7.64946697,  6.87413665],\n",
              "       [ 3.17525723,  5.62476393, 10.15976848,  4.03438633],\n",
              "       [ 7.04081257,  4.85420438,  1.89181524,  7.23518102],\n",
              "       [ 7.26786332,  7.14015612,  5.92633497,  2.90758232],\n",
              "       [ 3.50643917,  1.99972572,  8.31306428,  8.66732308],\n",
              "       [ 3.18654801,  4.89081783,  8.57794948,  2.79365377],\n",
              "       [ 8.58532434,  6.39504566,  0.40746907,  8.19586044],\n",
              "       [ 7.66478921,  7.09287105,  4.85813745,  4.00618376],\n",
              "       [ 2.66997913,  0.23160731,  6.97695057,  6.9522119 ],\n",
              "       [ 2.76032433,  5.02572983,  9.46917653,  3.73534721],\n",
              "       [ 7.45316364,  5.48535308,  1.47773692,  6.92925836],\n",
              "       [ 7.06250243,  6.61641404,  5.06602351,  3.47368582],\n",
              "       [ 3.06123287,  1.47542715,  7.98124339,  8.10557054],\n",
              "       [ 4.90224486,  6.91585601, 10.1647957 ,  2.62063647],\n",
              "       [ 6.57495472,  3.93588096,  3.38975336,  8.25481083],\n",
              "       [ 7.32899185,  7.0149996 ,  5.45990865,  3.31458022],\n",
              "       [ 4.87752016,  2.36560611,  7.08124369,  9.17442791],\n",
              "       [ 3.29539318,  5.11115824,  8.83280885,  2.80489307],\n",
              "       [ 7.54516473,  5.40388026,  1.34846309,  7.40700258],\n",
              "       [ 7.38677757,  7.3977078 ,  6.32793491,  2.69364356],\n",
              "       [ 4.98566846,  2.23727999,  6.26130801,  8.76730762],\n",
              "       [ 4.99377626,  7.24360429, 10.87176734,  3.39822175]])"
            ]
          },
          "metadata": {},
          "execution_count": 143
        }
      ]
    },
    {
      "cell_type": "code",
      "metadata": {
        "id": "cv52G-UqPbb3"
      },
      "source": [
        "# np.argmin(): 최소값에 해당하는 인덱스를 반환\n",
        "cluster_per_point = np.argmin(dists, axis=1)"
      ],
      "execution_count": 144,
      "outputs": []
    },
    {
      "cell_type": "code",
      "metadata": {
        "colab": {
          "base_uri": "https://localhost:8080/"
        },
        "id": "IPL456-FScZN",
        "outputId": "a9e8d851-80d1-4c62-a121-7b5dc1700b9b"
      },
      "source": [
        "cluster_per_point"
      ],
      "execution_count": 145,
      "outputs": [
        {
          "output_type": "execute_result",
          "data": {
            "text/plain": [
              "array([2, 3, 1, 3, 2, 3, 0, 3, 2, 3, 1, 0, 2, 3, 1, 0, 2, 2, 1, 3, 2, 3,\n",
              "       1, 3, 2, 3, 1, 3, 2, 3, 0, 3, 2, 3, 1, 0, 2, 3, 1, 3, 2, 3, 1, 0,\n",
              "       2, 3, 1, 3, 2, 3, 1, 0, 2, 3, 1, 3, 2, 3, 1, 0, 2, 3, 1, 3, 2, 3,\n",
              "       1, 0, 2, 3, 1, 3, 2, 3, 1, 3, 2, 3, 1, 3])"
            ]
          },
          "metadata": {},
          "execution_count": 145
        }
      ]
    },
    {
      "cell_type": "markdown",
      "metadata": {
        "id": "HGS6Dv5yTi0R"
      },
      "source": [
        "###4. 각 군집별 점들의 평균 계산 -> 군집의 중심점 다시 계산\n"
      ]
    },
    {
      "cell_type": "code",
      "metadata": {
        "colab": {
          "base_uri": "https://localhost:8080/"
        },
        "id": "WAGjvG48WM81",
        "outputId": "acadc555-c277-4e8b-a6bb-5f0fa3dcfbba"
      },
      "source": [
        "'''\n",
        "# 각 군집에 해당하는 데이터들을 가져온 후 평균을 수행합니다. \n",
        "# cluster_index 가 1 인 데이터만 가져와 평균을 수행 \n",
        "# (3+4)/2 를 수행하는 방법 ?\n",
        "\n",
        "# where 함수는 해당하는 컨디션의 인덱스를 반환한다.\n",
        "\n",
        "X = np.array([3, 4, 5, 6])\n",
        "cluster_index = np.array([1, 1, 0 ,0])\n",
        "mean = np.zeros(2)\n",
        "k = 2\n",
        "for i in range(k):\n",
        "  target_point = X[np.where(cluster_index == i)]\n",
        "  mean[i] = target_point.mean()\n",
        "mean\n",
        "'''"
      ],
      "execution_count": 80,
      "outputs": [
        {
          "output_type": "execute_result",
          "data": {
            "text/plain": [
              "array([5.5, 3.5])"
            ]
          },
          "metadata": {},
          "execution_count": 80
        }
      ]
    },
    {
      "cell_type": "code",
      "metadata": {
        "colab": {
          "base_uri": "https://localhost:8080/"
        },
        "id": "WHqX_JSCrJ7p",
        "outputId": "612fe2ae-b704-42ea-fc26-26835859a5f0"
      },
      "source": [
        "target_point"
      ],
      "execution_count": 134,
      "outputs": [
        {
          "output_type": "execute_result",
          "data": {
            "text/plain": [
              "array([[-5.379713, -3.362104],\n",
              "       [-3.487105, -1.724432],\n",
              "       [-2.786837, -3.099354],\n",
              "       [-0.39237 , -3.963704],\n",
              "       [-3.195883, -2.283926],\n",
              "       [-3.403367, -2.778288],\n",
              "       [-4.007257, -3.207066],\n",
              "       [-3.674424, -2.261084],\n",
              "       [-2.579316, -3.497576],\n",
              "       [-3.837877, -3.253815],\n",
              "       [-2.121479, -4.232586],\n",
              "       [-3.762093, -2.432191],\n",
              "       [-4.323818, -3.938116],\n",
              "       [-4.009299, -2.978115],\n",
              "       [-3.171184, -3.572452],\n",
              "       [-2.565729, -2.012114],\n",
              "       [-2.651229, -3.103198],\n",
              "       [-4.599622, -2.185829],\n",
              "       [-2.793241, -2.149706],\n",
              "       [-4.905566, -2.91107 ]])"
            ]
          },
          "metadata": {},
          "execution_count": 134
        }
      ]
    },
    {
      "cell_type": "code",
      "metadata": {
        "colab": {
          "base_uri": "https://localhost:8080/"
        },
        "id": "hjLPzP1FrrIL",
        "outputId": "200809cc-7b3e-4030-b367-743e4f66abf8"
      },
      "source": [
        "#target_point.mean(axis =0)"
      ],
      "execution_count": 151,
      "outputs": [
        {
          "output_type": "execute_result",
          "data": {
            "text/plain": [
              "array([-3.06443394,  0.58951959])"
            ]
          },
          "metadata": {},
          "execution_count": 151
        }
      ]
    },
    {
      "cell_type": "code",
      "metadata": {
        "colab": {
          "base_uri": "https://localhost:8080/"
        },
        "id": "5li8A1B2S23M",
        "outputId": "11a26754-9711-4823-dcaf-403700ec172d"
      },
      "source": [
        "# 같은 index 군집에 포함된 데이터들끼리 모아서 평균을 계산한다.\n",
        "k = 4\n",
        "for i in range(k):\n",
        "  # cluster_per_point가 i인 항목의 인덱스와 같은 인덱스를 가진 dataset을 가져온다.\n",
        "  target_point = dataset[np.where(cluster_per_point == i)]\n",
        "  # 가져온 dataset들의 평균을 내서 새로운 centorids[i]를 정의한다.\n",
        "  centroids[i] = target_point.mean(axis = 0)\n",
        "\n",
        "  # mean 에서 axis를 줘야 한다 ** 나중에 다시 보기\n",
        "\n",
        "centroids"
      ],
      "execution_count": 147,
      "outputs": [
        {
          "output_type": "execute_result",
          "data": {
            "text/plain": [
              "array([[-2.74271528, -2.74271528],\n",
              "       [ 0.20455503,  0.20455503],\n",
              "       [ 2.7918379 ,  2.7918379 ],\n",
              "       [-1.23745717, -1.23745717]])"
            ]
          },
          "metadata": {},
          "execution_count": 147
        }
      ]
    },
    {
      "cell_type": "markdown",
      "metadata": {
        "id": "qN0u5XG3h4wE"
      },
      "source": [
        "### 5. 더이상 군집 바뀌지 않을 때까지 반복"
      ]
    },
    {
      "cell_type": "code",
      "metadata": {
        "colab": {
          "base_uri": "https://localhost:8080/",
          "height": 809
        },
        "id": "8TqhpRTzglK4",
        "outputId": "a7447b01-94c1-4ee1-9b06-4d407d55397e"
      },
      "source": [
        "num_data = dataset.shape[0]\n",
        "\n",
        "cluster_per_point = np.ones((num_data))\n",
        "\n",
        "counter = 0\n",
        "while True:\n",
        "    prev_cluster_per_point = cluster_per_point\n",
        "    \n",
        "    # (2) 중심점과 각 데이터 사이의 거리를 계산\n",
        "    datasetX = dataset[:,0].reshape(80,1)\n",
        "    datasetY = dataset[:,1].reshape(80,1)\n",
        "    centroidsX = centroids[:,0]\n",
        "    centroidsY = centroids[:,1]\n",
        "\n",
        "    dists = np.sqrt((datasetX-centroidsX)**2+(datasetY-centroidsY)**2)    \n",
        "    # (3) 각 데이터를 거리가 가장 가까운 군집으로 할당\n",
        "    cluster_per_point = np.argmin(dists, axis=1)\n",
        "    # (4) 각 군집 별 점들의 평균을 계산 후, 군집의 중심점을 다시 계산\n",
        "    k = 4\n",
        "    for i in range(k):\n",
        "      target_point = dataset[np.where(cluster_per_point == i)]\n",
        "      centroids[i] = target_point.mean(axis=0)         \n",
        "    \n",
        "    ## (5) cluster 값이 변하지 않으면 while 구문을 종료(np.all 구문 사용)\n",
        "    if np.all(prev_cluster_per_point == cluster_per_point):\n",
        "        break\n",
        "        \n",
        "    # 시각화 코드 \n",
        "    counter += 1\n",
        "    plt.title(\"{}th Distribution of Dataset\".format(counter))\n",
        "    for idx, color in enumerate(['r','g','b','y']):\n",
        "        mask = (cluster_per_point==idx)\n",
        "        plt.scatter(dataset[mask,0],dataset[mask,1],\n",
        "                    label='dataset', c=color)\n",
        "        plt.scatter(centroids[:,0],centroids[:,1],\n",
        "                    s=200, label=\"centroid\", marker='+')\n",
        "    plt.show()"
      ],
      "execution_count": 152,
      "outputs": [
        {
          "output_type": "display_data",
          "data": {
            "image/png": "[encoded data removed]",
            "text/plain": [
              "<Figure size 432x288 with 1 Axes>"
            ]
          },
          "metadata": {
            "needs_background": "light"
          }
        },
        {
          "output_type": "display_data",
          "data": {
            "image/png": "[encoded data removed]",
            "text/plain": [
              "<Figure size 432x288 with 1 Axes>"
            ]
          },
          "metadata": {
            "needs_background": "light"
          }
        },
        {
          "output_type": "display_data",
          "data": {
            "image/png": "[encoded data removed]",
            "text/plain": [
              "<Figure size 432x288 with 1 Axes>"
            ]
          },
          "metadata": {
            "needs_background": "light"
          }
        }
      ]
    },
    {
      "cell_type": "markdown",
      "metadata": {
        "id": "fKtF3D01sTo1"
      },
      "source": [
        "# 전체 numpy code 작성하기"
      ]
    },
    {
      "cell_type": "code",
      "metadata": {
        "id": "I3PYWBSvjojT"
      },
      "source": [
        "def cluster_kmeans(dataset, k):    \n",
        "  center_x = np.random.uniform(np.min(dataset[:,0]), np.max(dataset[:,0]), 4)\n",
        "  center_y = np.random.uniform(np.min(dataset[:,1]), np.max(dataset[:,1]), 4)\n",
        "  centroids = np.stack([center_x,center_y],axis=-1) \n",
        "  num_data = dataset.shape[0]\n",
        "\n",
        "  cluster_per_point = np.ones((num_data))\n",
        "\n",
        "  counter = 0\n",
        "  while True:\n",
        "    prev_cluster_per_point = cluster_per_point\n",
        "    \n",
        "    # (2) 중심점과 각 데이터 사이의 거리를 계산\n",
        "    datasetX = dataset[:,0].reshape(80,1)\n",
        "    datasetY = dataset[:,1].reshape(80,1)\n",
        "    centroidsX = centroids[:,0]\n",
        "    centroidsY = centroids[:,1]\n",
        "\n",
        "    dists = np.sqrt((datasetX-centroidsX)**2+(datasetY-centroidsY)**2)    \n",
        "    # (3) 각 데이터를 거리가 가장 가까운 군집으로 할당\n",
        "    cluster_per_point = np.argmin(dists, axis=1)\n",
        "    # (4) 각 군집 별 점들의 평균을 계산 후, 군집의 중심점을 다시 계산\n",
        "    for i in range(k):\n",
        "      target_point = dataset[np.where(cluster_per_point == i)]\n",
        "      centroids[i] = target_point.mean(axis=0)         \n",
        "    \n",
        "    ## (5) cluster 값이 변하지 않으면 while 구문을 종료(np.all 구문 사용)\n",
        "    if np.all(prev_cluster_per_point == cluster_per_point):\n",
        "        break\n",
        "        \n",
        "    # 시각화 코드 \n",
        "    counter += 1\n",
        "    plt.title(\"{}th Distribution of Dataset\".format(counter))\n",
        "    for idx, color in enumerate(['r','g','b','y']):\n",
        "        mask = (cluster_per_point==idx)\n",
        "        plt.scatter(dataset[mask,0],dataset[mask,1],\n",
        "                    label='dataset', c=color)\n",
        "        plt.scatter(centroids[:,0],centroids[:,1],\n",
        "                    s=200, label=\"centroid\", marker='+')\n",
        "    plt.show()\n",
        "\n",
        "    return centroids"
      ],
      "execution_count": 155,
      "outputs": []
    },
    {
      "cell_type": "code",
      "metadata": {
        "colab": {
          "base_uri": "https://localhost:8080/",
          "height": 351
        },
        "id": "Ev7pt856tFd-",
        "outputId": "118b5b07-fdcd-4a35-f33d-66a1b6aa133e"
      },
      "source": [
        "cluster_kmeans(dataset,4)"
      ],
      "execution_count": 156,
      "outputs": [
        {
          "output_type": "display_data",
          "data": {
            "image/png": "[encoded data removed]",
            "text/plain": [
              "<Figure size 432x288 with 1 Axes>"
            ]
          },
          "metadata": {
            "needs_background": "light"
          }
        },
        {
          "output_type": "execute_result",
          "data": {
            "text/plain": [
              "array([[-2.46571578,  2.45059206],\n",
              "       [-3.53973889, -2.89384326],\n",
              "       [ 2.7481024 , -2.90572575],\n",
              "       [ 2.1037747 ,  3.1883033 ]])"
            ]
          },
          "metadata": {},
          "execution_count": 156
        }
      ]
    }
  ]
}